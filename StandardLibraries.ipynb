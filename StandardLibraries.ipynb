{
 "cells": [
  {
   "cell_type": "markdown",
   "id": "536f4ab0-c1f4-4981-b25e-8454d538bff6",
   "metadata": {},
   "source": [
    "## Standard Libraries"
   ]
  },
  {
   "cell_type": "markdown",
   "id": "ee490e28-5ef1-455b-8d55-6e127de5fca1",
   "metadata": {},
   "source": [
    "## Collection"
   ]
  },
  {
   "cell_type": "code",
   "execution_count": null,
   "id": "ad5125af-d2e4-444d-b000-c518af2403cc",
   "metadata": {},
   "outputs": [],
   "source": [
    "#Collection:\n",
    "collection python ko auta module or standard library ho jasma specialized datatypes container haru hunxa \n",
    "yo specialzed datatypes vaneko chai standard data structures haru ho jasle counting, grouping jasto kaam list ra dict haru vanda more effieciently garxa"
   ]
  },
  {
   "cell_type": "code",
   "execution_count": null,
   "id": "28258892-0673-4ea5-8b90-1071050d1b0a",
   "metadata": {},
   "outputs": [],
   "source": [
    "#some of the collection in python are "
   ]
  },
  {
   "cell_type": "code",
   "execution_count": 2,
   "id": "a7fee29d-fa79-402c-884a-a867df46daf0",
   "metadata": {},
   "outputs": [
    {
     "name": "stdout",
     "output_type": "stream",
     "text": [
      "Counter({'apple': 3, 'banana': 2, 'orange': 1})\n",
      "3\n",
      "0\n"
     ]
    }
   ],
   "source": [
    "#1. Counter:Counts the occurrences of elements in a collection (like a list or string).\n",
    "from collections import Counter\n",
    "\n",
    "data = ['apple', 'banana', 'apple', 'orange', 'banana', 'apple']\n",
    "count = Counter(data)\n",
    "print(count)\n",
    "# Output: Counter({'apple': 3, 'banana': 2, 'orange': 1})\n",
    "\n",
    "# Access counts\n",
    "print(count['apple'])  # 3\n",
    "print(count['grape'])  # 0 (missing elements return 0)\n"
   ]
  },
  {
   "cell_type": "code",
   "execution_count": 3,
   "id": "5f4198b5-c412-402b-bcef-3368d7299d59",
   "metadata": {},
   "outputs": [
    {
     "name": "stdout",
     "output_type": "stream",
     "text": [
      "defaultdict(<class 'int'>, {'apple': 1, 'banana': 2})\n"
     ]
    }
   ],
   "source": [
    "#2.defaultdict : missing keys ko lagi default value provide garxa yesle\n",
    "from collections import defaultdict\n",
    "\n",
    "# Default value for missing keys is 0\n",
    "dd = defaultdict(int)\n",
    "\n",
    "dd['apple'] += 1\n",
    "dd['banana'] += 2\n",
    "\n",
    "print(dd)  # defaultdict(<class 'int'>, {'apple': 1, 'banana': 2})\n"
   ]
  },
  {
   "cell_type": "code",
   "execution_count": 4,
   "id": "aed10d86-53a5-40c2-b48d-e4eed8975c0d",
   "metadata": {},
   "outputs": [
    {
     "name": "stdout",
     "output_type": "stream",
     "text": [
      "OrderedDict({'apple': 1, 'banana': 2, 'cherry': 3})\n"
     ]
    }
   ],
   "source": [
    "#3.OrderedDict :keys haru ko insertion order lai yaad garera rakhxa\n",
    "from collections import OrderedDict\n",
    "\n",
    "# Create an OrderedDict\n",
    "od = OrderedDict()\n",
    "od['apple'] = 1\n",
    "od['banana'] = 2\n",
    "od['cherry'] = 3\n",
    "\n",
    "print(od)  # OrderedDict([('apple', 1), ('banana', 2), ('cherry', 3)])\n"
   ]
  },
  {
   "cell_type": "code",
   "execution_count": 5,
   "id": "8ddc50a5-fce0-4530-8939-de406c481def",
   "metadata": {},
   "outputs": [
    {
     "name": "stdout",
     "output_type": "stream",
     "text": [
      "10\n",
      "20\n"
     ]
    }
   ],
   "source": [
    "#4. namedtuple: namedtuple creates a tuple with named fields.\n",
    "#You can access values using names instead of indexes.\n",
    "#Immutable like a regular tuple.\n",
    "from collections import namedtuple\n",
    "\n",
    "# Create a Point class\n",
    "Point = namedtuple('Point', ['x', 'y'])\n",
    "\n",
    "# Create an instance\n",
    "p = Point(10, 20)\n",
    "\n",
    "print(p.x)  # 10\n",
    "print(p.y)  # 20\n"
   ]
  },
  {
   "cell_type": "code",
   "execution_count": 6,
   "id": "9fedabfd-36a6-45a6-8471-5de7003f427d",
   "metadata": {},
   "outputs": [
    {
     "name": "stdout",
     "output_type": "stream",
     "text": [
      "deque([1, 2, 3])\n"
     ]
    }
   ],
   "source": [
    "#5. deque: Double-ended queue\n",
    "#fast additions/removals from both ends.\n",
    "from collections import deque\n",
    "\n",
    "# Create a deque\n",
    "dq = deque([1, 2, 3])\n",
    "\n",
    "dq.append(4)       # Add to the end\n",
    "dq.appendleft(0)   # Add to the front\n",
    "dq.pop()           # Remove from the end\n",
    "dq.popleft()       # Remove from the front\n",
    "\n",
    "print(dq)          # deque([1, 2, 3])\n"
   ]
  },
  {
   "cell_type": "markdown",
   "id": "c9ef6b6b-a1ba-47c9-8b03-86251001c040",
   "metadata": {},
   "source": [
    "## Itertools"
   ]
  },
  {
   "cell_type": "code",
   "execution_count": null,
   "id": "146044cf-e4f0-4dc7-8842-7fbc5eafde8f",
   "metadata": {},
   "outputs": [],
   "source": [
    "itertools are the python standard library yesma chai different tools haru hunxa iteration or loop garauna ko lagi\n",
    "yo use garna lai import garna parxa\n"
   ]
  },
  {
   "cell_type": "code",
   "execution_count": null,
   "id": "aefa56b2-f27d-4c93-a8ba-45acbc9bb2d2",
   "metadata": {},
   "outputs": [],
   "source": [
    "#Importing itertools\n",
    "import itertools"
   ]
  },
  {
   "cell_type": "code",
   "execution_count": null,
   "id": "7261d463-8ed3-4d8b-8582-c44c5dc36d9d",
   "metadata": {},
   "outputs": [],
   "source": [
    "Common itertools functions: there are multiple function under this that work for efficient iteraion"
   ]
  },
  {
   "cell_type": "markdown",
   "id": "4cbbf776-2610-4051-84d0-ececf08721d3",
   "metadata": {},
   "source": [
    "## Infinite Iterators"
   ]
  },
  {
   "cell_type": "code",
   "execution_count": null,
   "id": "334bbede-bdca-4e35-a29c-d01af099d260",
   "metadata": {},
   "outputs": [],
   "source": [
    "#1. Infinite Iterators: yesle infintely values produces garxa \n",
    "a.count\n",
    "b.cycle(iterable)\n",
    "c.repeat(object, times)"
   ]
  },
  {
   "cell_type": "code",
   "execution_count": 7,
   "id": "499273ae-7212-4735-a034-17a5e90ddc0a",
   "metadata": {},
   "outputs": [
    {
     "name": "stdout",
     "output_type": "stream",
     "text": [
      "10\n",
      "12\n",
      "14\n",
      "16\n",
      "18\n",
      "20\n"
     ]
    }
   ],
   "source": [
    "#count(start, step) – Counts indefinitely from a starting number.\n",
    "import itertools\n",
    "\n",
    "for i in itertools.count(10, 2): # 10bata start vayera step 2 ma iteraion garxa until the condition satisfy\n",
    "    if i > 20:\n",
    "        break\n",
    "    print(i)\n"
   ]
  },
  {
   "cell_type": "code",
   "execution_count": null,
   "id": "742008a3-51fe-4cf7-899d-a5d8f09b5197",
   "metadata": {},
   "outputs": [],
   "source": [
    "\n",
    "for i in itertools.count(10, 2):\n",
    "    if i > 20:\n",
    "        break\n",
    "    print(i)\n"
   ]
  },
  {
   "cell_type": "code",
   "execution_count": 8,
   "id": "ff11a868-7df9-41c3-9881-9b7a1e0b0de3",
   "metadata": {},
   "outputs": [
    {
     "name": "stdout",
     "output_type": "stream",
     "text": [
      "red\n",
      "green\n",
      "blue\n",
      "red\n",
      "green\n"
     ]
    }
   ],
   "source": [
    "#cycle(iterable) – Cycles through an iterable indefinitely.\n",
    "colors = ['red', 'green', 'blue']\n",
    "cycled = itertools.cycle(colors) # range 5 deko vayera 5 choti sama iteration chalyo\n",
    "for i in range(5):\n",
    "    print(next(cycled))\n"
   ]
  },
  {
   "cell_type": "code",
   "execution_count": 9,
   "id": "4f2a0f9b-3d05-4fd4-8c79-bc95f6e4a8ba",
   "metadata": {},
   "outputs": [
    {
     "name": "stdout",
     "output_type": "stream",
     "text": [
      "Hello\n",
      "Hello\n",
      "Hello\n"
     ]
    }
   ],
   "source": [
    "#repeat(object, times) – Repeats an object indefinitely or a fixed number of times.\n",
    "for i in itertools.repeat('Hello', 3): # hello lai 3 time repeat garyo\n",
    "    print(i)\n"
   ]
  },
  {
   "cell_type": "markdown",
   "id": "ca1cf60d-e9c3-4325-9810-8498bce7d17b",
   "metadata": {},
   "source": [
    "## Finite Iterators\n",
    "\n"
   ]
  },
  {
   "cell_type": "code",
   "execution_count": null,
   "id": "f469ffa3-26b6-425b-9e65-da70bde787d2",
   "metadata": {},
   "outputs": [],
   "source": [
    "These work with finite iterables. finite no samma iteration chalauxa\n",
    "a.chain(iterables)\n",
    "b.zip_longest(iterables, fillvalue=None)\n",
    "c.islice(iterable, start, stop, step)"
   ]
  },
  {
   "cell_type": "code",
   "execution_count": 10,
   "id": "814d7295-27ec-4339-b9c6-4b80a36e3a54",
   "metadata": {},
   "outputs": [
    {
     "name": "stdout",
     "output_type": "stream",
     "text": [
      "1\n",
      "2\n",
      "3\n",
      "4\n"
     ]
    }
   ],
   "source": [
    "#chain(iterables) – Combines multiple iterables into one.\n",
    "a = [1, 2]\n",
    "b = [3, 4]\n",
    "for i in itertools.chain(a, b): # multiple iterables lai auta ma combine garxa\n",
    "    print(i)\n"
   ]
  },
  {
   "cell_type": "code",
   "execution_count": 11,
   "id": "d5ceada4-4a88-4a9b-bfca-ed734376af02",
   "metadata": {},
   "outputs": [
    {
     "name": "stdout",
     "output_type": "stream",
     "text": [
      "[(1, 'a'), (2, 'b'), (3, 'X'), (4, 'X')]\n"
     ]
    }
   ],
   "source": [
    "#zip_longest(iterables, fillvalue): jastai a longest iterable ho ra b small ho so  zip_longest vane le a ko sabai element used huda samma kaam garxa ra rokinxa\n",
    "from itertools import zip_longest # ani  b ko baaki 2 ota missing value ma x assign gardinxa\n",
    "\n",
    "a = [1, 2, 3, 4]   # 4 items\n",
    "b = ['a', 'b']     # 2 items\n",
    "\n",
    "result = list(zip_longest(a, b, fillvalue='X'))\n",
    "print(result)\n"
   ]
  },
  {
   "cell_type": "code",
   "execution_count": 12,
   "id": "8abc995a-36cf-457a-a674-b56817cc59ac",
   "metadata": {},
   "outputs": [
    {
     "name": "stdout",
     "output_type": "stream",
     "text": [
      "2\n",
      "4\n",
      "6\n"
     ]
    }
   ],
   "source": [
    "#islice(iterable, start, stop, step): slice an interator\n",
    "for i in itertools.islice(range(10), 2, 8, 2):\n",
    "    print(i)\n"
   ]
  },
  {
   "cell_type": "markdown",
   "id": "25d6a407-0781-45da-bdb9-201bce5f77d4",
   "metadata": {},
   "source": [
    "## Combinatoric Iterators"
   ]
  },
  {
   "cell_type": "code",
   "execution_count": null,
   "id": "f25a0adf-9b08-44b4-93fc-b0690dd4fc71",
   "metadata": {},
   "outputs": [],
   "source": [
    "Used for generating permutations, combinations, and Cartesian products."
   ]
  },
  {
   "cell_type": "code",
   "execution_count": null,
   "id": "0fcbf030-1ecf-4f81-bcab-46ba237542ca",
   "metadata": {},
   "outputs": [],
   "source": [
    "a.product\n",
    "b.permutations\n",
    "c.combinations\n",
    "d.combinations_with_replacement"
   ]
  },
  {
   "cell_type": "code",
   "execution_count": 13,
   "id": "48c46e99-6189-4274-ad1f-b3922b7af570",
   "metadata": {},
   "outputs": [
    {
     "name": "stdout",
     "output_type": "stream",
     "text": [
      "(1, 'a')\n",
      "(1, 'b')\n",
      "(2, 'a')\n",
      "(2, 'b')\n"
     ]
    }
   ],
   "source": [
    "# product(iterable1, iterable2, repeat=n) – Cartesian product generate garxa\n",
    "for i in itertools.product([1,2], ['a','b']):\n",
    "    print(i)\n"
   ]
  },
  {
   "cell_type": "code",
   "execution_count": 14,
   "id": "2705f554-c098-451d-95d3-a053aa61b8d1",
   "metadata": {},
   "outputs": [
    {
     "name": "stdout",
     "output_type": "stream",
     "text": [
      "(1, 2)\n",
      "(1, 3)\n",
      "(2, 1)\n",
      "(2, 3)\n",
      "(3, 1)\n",
      "(3, 2)\n"
     ]
    }
   ],
   "source": [
    "#permutations(iterable, r=None) – All possible orderings of length r.\n",
    "for i in itertools.permutations([1, 2, 3], 2): # r samma ordering garne given elements lai\n",
    "    print(i)\n"
   ]
  },
  {
   "cell_type": "code",
   "execution_count": 15,
   "id": "da11f408-c7f3-4dc3-b5de-261f7fb8c6ef",
   "metadata": {},
   "outputs": [
    {
     "name": "stdout",
     "output_type": "stream",
     "text": [
      "(1, 2)\n",
      "(1, 3)\n",
      "(2, 3)\n"
     ]
    }
   ],
   "source": [
    "#combinations(iterable, r) – All possible combinations of length r without repetition.\n",
    "for i in itertools.combinations([1,2,3], 2): # combination of elements with lenghth r\n",
    "    print(i)\n"
   ]
  },
  {
   "cell_type": "code",
   "execution_count": 16,
   "id": "48f51f33-233b-40f8-b482-cec05bac2110",
   "metadata": {},
   "outputs": [
    {
     "name": "stdout",
     "output_type": "stream",
     "text": [
      "(1, 1)\n",
      "(1, 2)\n",
      "(2, 2)\n"
     ]
    }
   ],
   "source": [
    "#combinations_with_replacement(iterable, r) – Combinations with repetition allowed.\n",
    "#agina repetation lina milthena aile milxa lina\n",
    "for i in itertools.combinations_with_replacement([1,2], 2):\n",
    "    print(i)\n"
   ]
  },
  {
   "cell_type": "markdown",
   "id": "c74643ae-2063-468a-a8e5-1a610f8e9c82",
   "metadata": {},
   "source": [
    "## "
   ]
  },
  {
   "cell_type": "code",
   "execution_count": null,
   "id": "4bd40a20-754e-4910-9265-eb0e4376fc1f",
   "metadata": {},
   "outputs": [],
   "source": []
  },
  {
   "cell_type": "code",
   "execution_count": null,
   "id": "1cebd71b-fe67-4753-ad32-c4925611c700",
   "metadata": {},
   "outputs": [],
   "source": []
  },
  {
   "cell_type": "code",
   "execution_count": null,
   "id": "2ff5364d-fcfa-49d0-ae48-a71731a38ab3",
   "metadata": {},
   "outputs": [],
   "source": []
  },
  {
   "cell_type": "code",
   "execution_count": null,
   "id": "f34ad08f-5b95-4972-9a93-eba8c9b31bc1",
   "metadata": {},
   "outputs": [],
   "source": []
  },
  {
   "cell_type": "code",
   "execution_count": null,
   "id": "39f26b95-817e-4795-b866-f8cc12b9b19f",
   "metadata": {},
   "outputs": [],
   "source": []
  },
  {
   "cell_type": "code",
   "execution_count": null,
   "id": "b3c8a1ea-9103-4152-978a-9d6fe76e66b5",
   "metadata": {},
   "outputs": [],
   "source": []
  },
  {
   "cell_type": "code",
   "execution_count": null,
   "id": "3da3dcc2-60fc-411e-afee-493caa3d4c93",
   "metadata": {},
   "outputs": [],
   "source": []
  },
  {
   "cell_type": "code",
   "execution_count": null,
   "id": "51055a77-a0bf-46cc-8b3b-2ccf3e5459f8",
   "metadata": {},
   "outputs": [],
   "source": []
  },
  {
   "cell_type": "code",
   "execution_count": null,
   "id": "160107b4-8ef4-4deb-a1c7-5ce728df153c",
   "metadata": {},
   "outputs": [],
   "source": []
  },
  {
   "cell_type": "code",
   "execution_count": null,
   "id": "cc72a277-b72f-4709-88fa-93f62efec979",
   "metadata": {},
   "outputs": [],
   "source": []
  },
  {
   "cell_type": "code",
   "execution_count": null,
   "id": "68b96c41-0721-436a-8466-722120679143",
   "metadata": {},
   "outputs": [],
   "source": []
  },
  {
   "cell_type": "code",
   "execution_count": null,
   "id": "f60199ce-d7ee-488e-b7c2-c48628065fba",
   "metadata": {},
   "outputs": [],
   "source": []
  },
  {
   "cell_type": "code",
   "execution_count": null,
   "id": "5c5bf975-9479-4eff-9471-bc7581ee1511",
   "metadata": {},
   "outputs": [],
   "source": []
  },
  {
   "cell_type": "code",
   "execution_count": null,
   "id": "15603dbd-22bc-44b2-9b6c-1091a4c2f99b",
   "metadata": {},
   "outputs": [],
   "source": []
  },
  {
   "cell_type": "code",
   "execution_count": null,
   "id": "7a0d264e-143b-4fa0-955b-deca70c1d70d",
   "metadata": {},
   "outputs": [],
   "source": []
  },
  {
   "cell_type": "code",
   "execution_count": null,
   "id": "ce9d7626-165f-4ecd-be80-254f6303e05a",
   "metadata": {},
   "outputs": [],
   "source": []
  }
 ],
 "metadata": {
  "kernelspec": {
   "display_name": "Python 3 (ipykernel)",
   "language": "python",
   "name": "python3"
  },
  "language_info": {
   "codemirror_mode": {
    "name": "ipython",
    "version": 3
   },
   "file_extension": ".py",
   "mimetype": "text/x-python",
   "name": "python",
   "nbconvert_exporter": "python",
   "pygments_lexer": "ipython3",
   "version": "3.13.3"
  }
 },
 "nbformat": 4,
 "nbformat_minor": 5
}
