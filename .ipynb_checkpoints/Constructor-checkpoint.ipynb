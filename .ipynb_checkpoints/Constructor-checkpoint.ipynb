{
 "cells": [
  {
   "cell_type": "markdown",
   "id": "e06f8ddd-66f9-4665-a29d-8d0ec12e9c38",
   "metadata": {},
   "source": [
    "## Constructor"
   ]
  },
  {
   "cell_type": "code",
   "execution_count": null,
   "id": "1c2523f4-fa93-4c37-836f-32f80ae7ad00",
   "metadata": {},
   "outputs": [],
   "source": [
    "python ma __init__ vane construtor hunxa which is basically a fucntion. ie auta function nai ho constructor pani\n",
    "ani every class bhitra yo __init__ vane function banaiyinxa, jaba class lai use garera object banauxam exactly teti bela automatically yo __init__ vane \n",
    "constructor executed hunxa"
   ]
  },
  {
   "cell_type": "code",
   "execution_count": null,
   "id": "31ae6fd4-fb40-4b51-947d-3d95b09e12ad",
   "metadata": {},
   "outputs": [],
   "source": [
    "hamle hamro code ma class banaisake paxi if init function banako xainam vane ni by default tesle init afai banayera , object baney bittikai execute garxa ,"
   ]
  },
  {
   "cell_type": "code",
   "execution_count": 1,
   "id": "b8af9432-b077-49c7-8db1-a9ade51099dd",
   "metadata": {},
   "outputs": [
    {
     "name": "stdout",
     "output_type": "stream",
     "text": [
      "Rabina\n"
     ]
    }
   ],
   "source": [
    "class Student: # hamle class banayera init function yesma banaiyenam tara python le automatically init function banako hunxa bhitra\n",
    "    name = \"Rabina\"\n",
    "s1 = Student()\n",
    "print(s1.name)"
   ]
  },
  {
   "cell_type": "code",
   "execution_count": null,
   "id": "234a5c0c-6b38-43e1-90cd-36b64d7dfe5a",
   "metadata": {},
   "outputs": [],
   "source": [
    "class Student:\n",
    "    def __init__(): # init function bhitra j garauna ni milyo\n",
    "        print(\"adding new student to a database...\")\n",
    "s1 = Student() # so hamle object banayim class so aba automatically call hunxa init function,actually yesma jun class sanga ()parenthehsis lagako xa tyo khas ma constructor lai call garn lai lagako ho\n",
    "\n",
    "\n",
    "        \n",
    "        "
   ]
  },
  {
   "cell_type": "markdown",
   "id": "d37e9534-630d-4248-8749-7cab68630404",
   "metadata": {},
   "source": [
    "## Difference between Parameter and Argument"
   ]
  },
  {
   "cell_type": "code",
   "execution_count": null,
   "id": "5d4b90b2-f4ef-4d85-b49c-3139487130be",
   "metadata": {},
   "outputs": [],
   "source": [
    "Parameter: parameter vaneko auta kunai variables or placeholder ho, jun chai function define garne bela rakhxam\n",
    "yesle chai function le kasto type ko input linxa vanera dekhauxa"
   ]
  },
  {
   "cell_type": "code",
   "execution_count": 2,
   "id": "07b0bfb2-1609-4e76-8ec3-014427bc1154",
   "metadata": {},
   "outputs": [],
   "source": [
    "def greet(name):   # here 'name' is a parameter\n",
    "    print(\"Hello\", name)\n"
   ]
  },
  {
   "cell_type": "code",
   "execution_count": null,
   "id": "a6be8c45-4c5f-4587-b538-d72e55f80f90",
   "metadata": {},
   "outputs": [],
   "source": [
    "Arguments: yo chai actual values ho jun hamle function call garne bela pass garxam"
   ]
  },
  {
   "cell_type": "code",
   "execution_count": 3,
   "id": "55a0895f-c65e-4b3e-aa8a-cb0c1c87106b",
   "metadata": {},
   "outputs": [
    {
     "name": "stdout",
     "output_type": "stream",
     "text": [
      "Hello Alice\n"
     ]
    }
   ],
   "source": [
    "greet(\"Alice\")  # \"Alice\" is an argument \n",
    " "
   ]
  },
  {
   "cell_type": "markdown",
   "id": "3093dd22-4705-4e14-befa-3906fb875a06",
   "metadata": {},
   "source": [
    "## self"
   ]
  },
  {
   "cell_type": "code",
   "execution_count": null,
   "id": "ba14708a-06be-4e3a-b576-017af0d5328e",
   "metadata": {},
   "outputs": [],
   "source": [
    "constructor le self vane parameter linxa\n",
    "self vaneko chai jaba object create huda constructor call hunxa, tei baneko object lai nai self le denote garxa. self ie "
   ]
  },
  {
   "cell_type": "code",
   "execution_count": 21,
   "id": "e629a63c-10ae-4fa0-8c60-b70c56a837a3",
   "metadata": {},
   "outputs": [
    {
     "name": "stdout",
     "output_type": "stream",
     "text": [
      "<__main__.Student object at 0x000001D981DDDBE0>\n",
      "Constructor called\n"
     ]
    }
   ],
   "source": [
    "class Student:\n",
    "    def __init__(self):   # yesari constructor define gardai xam vane first parameter chai seld parameter hunxa\n",
    "        print(self) # self print garda Student object vane op ayo ie self vanekai tei baneko object ho\n",
    "      \n",
    "        print(\"Constructor called\")\n",
    "\n",
    "# Create object\n",
    "s1 = Student() # hamle tala kei print ni garexainam tara ni init run vayo kinaki object banako xam so object vanekai self ho ra self nai call vayo"
   ]
  },
  {
   "cell_type": "code",
   "execution_count": 23,
   "id": "c545fe01-6b42-4f86-9caa-dd52847793bd",
   "metadata": {},
   "outputs": [
    {
     "name": "stdout",
     "output_type": "stream",
     "text": [
      "Adding new name to the database..\n",
      "Rabine\n",
      "Adding new name to the database..\n",
      "Riya\n"
     ]
    }
   ],
   "source": [
    "class Student:\n",
    "    def __init__(self, fullname):\n",
    "        print(\"Adding new name to the database..\")\n",
    "        self.name = fullname\n",
    "s1 = Student(\"Rabine\") # yo classma jun value deko xam tyo init wala ko fullname ma janxa ra self ie s1 vane object ie self.name le auta name vane variable banauxa ra fullname ko value rakhdinxa which is rabine for now\n",
    "print(s1.name)\n",
    "\n",
    "s2 = Student(\"Riya\")# pheri naya object banyo ra constructor call vayo, same kaam naya object ko lagi hunxa\n",
    "print(s2.name)"
   ]
  },
  {
   "cell_type": "code",
   "execution_count": null,
   "id": "27a38b6d-540a-4f1a-82e3-6d693e5f09e5",
   "metadata": {},
   "outputs": [],
   "source": [
    "class Student:\n",
    "    #default constructor ie if hamle banako xainam vane ni python le banaidinxa yo\n",
    "    def __init__(self):\n",
    "        pass  # pass means currently, constructor does nothing\n",
    "\n",
    "\n",
    "    #parameterized constructor ie self xa ra tyo sangai aru parameter haru pani ako xan bhaney\n",
    "    def __init__(self, fullname):\n",
    "        print(\"Adding new name to the database..\")\n",
    "        self.name = fullname\n",
    "s1 = Student(\"Rabine\") \n",
    "print(s1.name)\n",
    "\n",
    "s2 = Student(\"Riya\")\n",
    "print(s2.name)\n",
    "# so auta class bhitra duita constructor xa bhaney jun sanga paramter haru match hunxa tei call hunxa in this case parameterized will run here"
   ]
  },
  {
   "cell_type": "markdown",
   "id": "267261d2-f180-4855-b620-2ecbf504d3d8",
   "metadata": {},
   "source": [
    "## Attributes"
   ]
  },
  {
   "cell_type": "code",
   "execution_count": null,
   "id": "740a5d95-9cac-44fe-bbc4-43767cf5edc2",
   "metadata": {},
   "outputs": [],
   "source": [
    "they are data or variables stored in the object or class"
   ]
  },
  {
   "cell_type": "code",
   "execution_count": null,
   "id": "eb937dbc-897a-45e9-9dac-591f86367611",
   "metadata": {},
   "outputs": [],
   "source": [
    "two types of attributes:\n",
    "class.atrr\n",
    "obj.attr"
   ]
  },
  {
   "cell_type": "code",
   "execution_count": null,
   "id": "8c4983e6-0db0-4798-af2f-1607a1bbdb70",
   "metadata": {},
   "outputs": [],
   "source": []
  },
  {
   "cell_type": "code",
   "execution_count": null,
   "id": "a12b0efe-872c-4651-b95d-5c2f1dc61831",
   "metadata": {},
   "outputs": [],
   "source": []
  },
  {
   "cell_type": "code",
   "execution_count": null,
   "id": "0961baa7-5273-49de-a126-df746b07654e",
   "metadata": {},
   "outputs": [],
   "source": []
  },
  {
   "cell_type": "code",
   "execution_count": null,
   "id": "2b019264-e434-4558-a3bb-835207bddea3",
   "metadata": {},
   "outputs": [],
   "source": []
  },
  {
   "cell_type": "code",
   "execution_count": null,
   "id": "56888c60-7195-4131-bd82-142ca26017ab",
   "metadata": {},
   "outputs": [],
   "source": []
  },
  {
   "cell_type": "code",
   "execution_count": null,
   "id": "b7f28b84-9549-4f7e-9ee1-defe5931192b",
   "metadata": {},
   "outputs": [],
   "source": []
  },
  {
   "cell_type": "code",
   "execution_count": null,
   "id": "9db0788b-eb80-4cd3-969c-5ac9ff100ac7",
   "metadata": {},
   "outputs": [],
   "source": []
  },
  {
   "cell_type": "code",
   "execution_count": null,
   "id": "b467f2d0-71a1-421b-b396-5387494808c8",
   "metadata": {},
   "outputs": [],
   "source": []
  },
  {
   "cell_type": "code",
   "execution_count": null,
   "id": "b2194ea9-e165-4493-a3e6-a139fbeb3028",
   "metadata": {},
   "outputs": [],
   "source": []
  },
  {
   "cell_type": "code",
   "execution_count": null,
   "id": "d6158bbb-0d04-41af-9278-7db9c17fa32f",
   "metadata": {},
   "outputs": [],
   "source": []
  },
  {
   "cell_type": "code",
   "execution_count": null,
   "id": "cefdec35-77cd-4aba-8be8-842ac3c7b700",
   "metadata": {},
   "outputs": [],
   "source": []
  }
 ],
 "metadata": {
  "kernelspec": {
   "display_name": "Python 3 (ipykernel)",
   "language": "python",
   "name": "python3"
  },
  "language_info": {
   "codemirror_mode": {
    "name": "ipython",
    "version": 3
   },
   "file_extension": ".py",
   "mimetype": "text/x-python",
   "name": "python",
   "nbconvert_exporter": "python",
   "pygments_lexer": "ipython3",
   "version": "3.13.3"
  }
 },
 "nbformat": 4,
 "nbformat_minor": 5
}
