{
 "cells": [
  {
   "cell_type": "markdown",
   "id": "aa63fe26-a65f-4349-aa7d-58d417191367",
   "metadata": {},
   "source": [
    "###  VariablesandDataTypes"
   ]
  },
  {
   "cell_type": "code",
   "execution_count": null,
   "id": "3ecd94b5-049b-4f22-a9af-45649aed1508",
   "metadata": {},
   "outputs": [],
   "source": [
    "#Variables "
   ]
  },
  {
   "cell_type": "code",
   "execution_count": null,
   "id": "ea9c7b96-210c-43ec-ad31-2f5e3a9fcc85",
   "metadata": {},
   "outputs": [],
   "source": [
    "A variable is a name that stores a value.\n",
    "In Python, we don’t need to declare the type before assigning a value.\n",
    "Variables can store data of different types, and different types can do different things."
   ]
  },
  {
   "cell_type": "code",
   "execution_count": null,
   "id": "8372014d-c65c-41d4-b201-d4e2b134135e",
   "metadata": {},
   "outputs": [],
   "source": [
    "x = 10           # integer variable"
   ]
  },
  {
   "cell_type": "code",
   "execution_count": null,
   "id": "6246a14d-6511-41d1-8a7a-0789f294e78f",
   "metadata": {},
   "outputs": [],
   "source": [
    "x"
   ]
  },
  {
   "cell_type": "code",
   "execution_count": null,
   "id": "39978b2f-3202-4741-b764-ea477ae9c2eb",
   "metadata": {},
   "outputs": [],
   "source": [
    "name = \"Rabina\"  # string variable"
   ]
  },
  {
   "cell_type": "code",
   "execution_count": null,
   "id": "5d3db3a6-6a92-4bfe-9bd9-8e80efc124d6",
   "metadata": {},
   "outputs": [],
   "source": [
    "name"
   ]
  },
  {
   "cell_type": "code",
   "execution_count": null,
   "id": "cd4a38a4-3065-4e83-8519-34f0701ed408",
   "metadata": {},
   "outputs": [],
   "source": [
    "pi = 3.14        # float variable"
   ]
  },
  {
   "cell_type": "code",
   "execution_count": null,
   "id": "84de4bce-7d2d-4bd3-9074-b46f05675bc7",
   "metadata": {},
   "outputs": [],
   "source": [
    "pi"
   ]
  },
  {
   "cell_type": "code",
   "execution_count": null,
   "id": "e570b3ab-6f39-4dd0-8634-440ab98dee02",
   "metadata": {},
   "outputs": [],
   "source": [
    "is_student = True  # boolean variable"
   ]
  },
  {
   "cell_type": "code",
   "execution_count": null,
   "id": "e5d23856-f9e5-4882-99c1-204656bff27d",
   "metadata": {},
   "outputs": [],
   "source": [
    "is_student"
   ]
  },
  {
   "cell_type": "markdown",
   "id": "fd4df619-1941-42be-bbed-b9e08b3f2e67",
   "metadata": {},
   "source": [
    "## Rules for Variable Names"
   ]
  },
  {
   "cell_type": "code",
   "execution_count": null,
   "id": "f6662bea-47ad-4243-bdb9-87ead62df592",
   "metadata": {},
   "outputs": [],
   "source": [
    "2value = 10     # cannot start with number\n",
    "first-name = 20 # cannot use hyphen\n",
    "my value = 30   # cannot have space"
   ]
  },
  {
   "cell_type": "markdown",
   "id": "fe306b14-5c2a-4d66-bbd6-c474fb3009e6",
   "metadata": {},
   "source": [
    "###  DataTypes"
   ]
  },
  {
   "cell_type": "code",
   "execution_count": null,
   "id": "b8649b9e-fcb1-418a-be32-04d2b7feef51",
   "metadata": {},
   "outputs": [],
   "source": [
    "#string\n",
    "x = \"Hello Everyone\"\n",
    "x"
   ]
  },
  {
   "cell_type": "code",
   "execution_count": null,
   "id": "7633dc09-c57f-463b-bd32-cc1593f873e4",
   "metadata": {},
   "outputs": [],
   "source": [
    "#integer\n",
    "y = 10\n",
    "y"
   ]
  },
  {
   "cell_type": "code",
   "execution_count": null,
   "id": "ac2a128b-1e2f-4168-83fc-acfabdd5906e",
   "metadata": {},
   "outputs": [],
   "source": [
    "#float\n",
    "z = 19.77\n",
    "z"
   ]
  },
  {
   "cell_type": "code",
   "execution_count": null,
   "id": "5b42a0e1-2ec6-4a62-9691-3ffc58de9240",
   "metadata": {},
   "outputs": [],
   "source": [
    "#complex\n",
    "a = 6j\n",
    "a"
   ]
  },
  {
   "cell_type": "markdown",
   "id": "78b8ba2b-b42d-4cec-8ee6-fb67a07814bf",
   "metadata": {},
   "source": [
    "## DataStructure"
   ]
  },
  {
   "cell_type": "code",
   "execution_count": null,
   "id": "57b75d24-f820-4c43-b51b-ac6c01e9e859",
   "metadata": {},
   "outputs": [],
   "source": [
    "##List\n",
    "A list is an ordered collection in Python.\n",
    "It can store multiple values (even of different data types).\n",
    "Lists are mutable → you can change, add, or remove items.\n",
    "Defined using square brackets [ ]"
   ]
  },
  {
   "cell_type": "code",
   "execution_count": null,
   "id": "f8f2a1c3-052c-4579-a366-c2f261c87225",
   "metadata": {},
   "outputs": [],
   "source": [
    "#list\n",
    "l = [\"apple\", \"banana\", \"cherry\"]\n",
    "l"
   ]
  },
  {
   "cell_type": "code",
   "execution_count": null,
   "id": "01258d42-ea6b-44e3-94f3-eef8a0bae98b",
   "metadata": {},
   "outputs": [],
   "source": [
    "##Creating a List\n",
    "fruits = [\"apple\", \"banana\", \"mango\"]\n",
    "numbers = [10,20,30,40,50]\n",
    "mixed = [1, \"hello\", 3.2, True]\n",
    "mixed"
   ]
  },
  {
   "cell_type": "code",
   "execution_count": null,
   "id": "8e56ee2f-89b5-4642-aeb8-2b629b08c20c",
   "metadata": {},
   "outputs": [],
   "source": [
    "##Accessing List Items\n",
    "fruits = [\"apple\", \"banana\", \"mango\"]\n",
    "print(fruits[0])   # apple (1st item)\n",
    "print(fruits[1])   # banana\n",
    "print(fruits[-1])   # mango (last item)"
   ]
  },
  {
   "cell_type": "code",
   "execution_count": null,
   "id": "25349a45-5634-4198-9f96-83111dd3bb2a",
   "metadata": {},
   "outputs": [],
   "source": [
    "##. Changing Items\n",
    "fruits = [\"apple\", \"banana\", \"mango\"]\n",
    "fruits[1] = \"orange\"\n",
    "print(fruits)   # ['apple', 'orange', 'mango']"
   ]
  },
  {
   "cell_type": "code",
   "execution_count": null,
   "id": "4b7eaf01-a339-40c6-8203-d3a05aedaee5",
   "metadata": {},
   "outputs": [],
   "source": [
    "##Adding Items\n",
    "fruits = [\"apple\", \"banana\"]\n",
    "fruits.append(\"mango\")      # add at end\n",
    "fruits.insert(1, \"orange\")  # add at position 1\n",
    "print(fruits)   # ['apple', 'orange', 'banana', 'mango']\n"
   ]
  },
  {
   "cell_type": "code",
   "execution_count": null,
   "id": "9ff56b68-2669-4476-a174-0565813eb4c5",
   "metadata": {},
   "outputs": [],
   "source": [
    "##. Removing Items\n",
    "fruits = [\"apple\", \"banana\", \"mango\"]\n",
    "\n",
    "fruits.remove(\"banana\")   # remove by value\n",
    "print(fruits)  # ['apple', 'mango']\n",
    "\n",
    "fruits.pop()   # removes last item\n",
    "print(fruits)  # ['apple']\n",
    "\n",
    "del fruits[0]  # delete item at index\n",
    "print(fruits)  # []"
   ]
  },
  {
   "cell_type": "code",
   "execution_count": null,
   "id": "b896b48e-699a-4b0a-95db-a04079419c04",
   "metadata": {},
   "outputs": [],
   "source": [
    "##Looping Through a List\n",
    "fruits = [\"apple\", \"banana\", \"mango\"]\n",
    "for f in fruits:\n",
    "    print(f)"
   ]
  },
  {
   "cell_type": "code",
   "execution_count": null,
   "id": "18a2f994-f53d-489f-811f-8e8a83483aac",
   "metadata": {},
   "outputs": [],
   "source": [
    "##Tuples\n",
    "A tuple is like a list, but it is immutable (cannot be changed).\n",
    "Defined using parentheses ( ).\n",
    "Ordered, allows duplicates, can store different data types."
   ]
  },
  {
   "cell_type": "code",
   "execution_count": null,
   "id": "f7d530c4-1547-4350-9a48-ffc1dbe3e041",
   "metadata": {},
   "outputs": [],
   "source": [
    "##Creating Tuples\n",
    "fruits = (\"apple\", \"banana\", \"mango\")\n",
    "numbers = (1, 2, 3, 4, 5)\n",
    "mixed = (1, \"hello\", 3.14, True)"
   ]
  },
  {
   "cell_type": "code",
   "execution_count": null,
   "id": "18f570c6-6b10-44a2-a065-57dbb41a38ac",
   "metadata": {},
   "outputs": [],
   "source": [
    "##Accessing Tuple Items\n",
    "fruits = (\"apple\", \"banana\", \"mango\")\n",
    "\n",
    "print(fruits[0])   # apple\n",
    "print(fruits[1])   # banana\n",
    "print(fruits[-1])  # mango (last item)"
   ]
  },
  {
   "cell_type": "code",
   "execution_count": null,
   "id": "78b096ab-bacf-4554-8702-9261aad731f0",
   "metadata": {},
   "outputs": [],
   "source": [
    "##. Tuple is Immutable ie it cannot be changed\n",
    "fruits = (\"apple\", \"banana\", \"mango\")\n",
    "# fruits[1] = \"orange\"  ❌ ERROR: cannot change tuple values"
   ]
  },
  {
   "cell_type": "markdown",
   "id": "412aece3-c679-4371-80b8-5837c1c580c9",
   "metadata": {},
   "source": [
    "## Set"
   ]
  },
  {
   "cell_type": "code",
   "execution_count": null,
   "id": "4cd6af2e-7ee5-449f-8160-9194e0e9c619",
   "metadata": {},
   "outputs": [],
   "source": [
    "A set is an unordered collection of unique items.\n",
    "Defined using curly braces { } or the set() function.\n",
    "No duplicates allowed.\n",
    "Unordered → items have no fixed position.\n",
    "Mutable → you can add/remove items, but elements themselves must be immutable (no lists/dicts inside)."
   ]
  },
  {
   "cell_type": "code",
   "execution_count": null,
   "id": "1bfc004f-fbe2-4b3d-af66-fd69b038f02e",
   "metadata": {},
   "outputs": [],
   "source": [
    "##Creating a Set\n",
    "fruits = {\"apple\", \"banana\", \"mango\"}\n",
    "print(fruits)   # order may change!"
   ]
  },
  {
   "cell_type": "code",
   "execution_count": null,
   "id": "1487350e-990f-43c0-8c65-85735d508239",
   "metadata": {},
   "outputs": [],
   "source": [
    "##Duplicates are Removed\n",
    "nums = {1, 2, 2, 3, 4, 4, 5}\n",
    "print(nums)   # {1, 2, 3, 4, 5}"
   ]
  },
  {
   "cell_type": "code",
   "execution_count": null,
   "id": "5b835a85-6ec1-4c2f-80ce-c78aa72f3f08",
   "metadata": {},
   "outputs": [],
   "source": [
    "##Using set() Constructor\n",
    "my_set = set([1, 2, 3, 3, 4])\n",
    "print(my_set)   # {1, 2, 3, 4}"
   ]
  },
  {
   "cell_type": "code",
   "execution_count": null,
   "id": "67c007c1-727a-4557-8e28-7502b3b85ea0",
   "metadata": {},
   "outputs": [],
   "source": [
    "##Adding & Removing Items\n",
    "\n",
    "fruits = {\"apple\", \"banana\"}\n",
    "\n",
    "fruits.add(\"mango\")     # add item\n",
    "print(fruits)           # {'apple', 'banana', 'mango'}\n",
    "\n",
    "fruits.remove(\"banana\") # remove item (error if not found)\n",
    "fruits.discard(\"pear\")  # safe remove (no error if not found)\n",
    "print(fruits)           # {'apple', 'mango'}\n",
    "\n",
    "popped = fruits.pop()   # remove random item\n",
    "print(popped, fruits)"
   ]
  },
  {
   "cell_type": "markdown",
   "id": "c6bbbb78-db89-4ff7-9c04-35d4055f85de",
   "metadata": {},
   "source": [
    "##  Dictionary"
   ]
  },
  {
   "cell_type": "code",
   "execution_count": null,
   "id": "31e5155c-f5b1-4988-a746-d1df2e62d17f",
   "metadata": {},
   "outputs": [],
   "source": [
    "A dictionary is a collection of key–value pairs.\n",
    "Keys must be unique and immutable (strings, numbers, tuples).\n",
    "Values can be any data type and can be duplicated."
   ]
  },
  {
   "cell_type": "code",
   "execution_count": null,
   "id": "176cb5af-ef97-4e75-8255-e61d13e6492d",
   "metadata": {},
   "outputs": [],
   "source": [
    "##Creating a Dictionary\n",
    "student = {\n",
    "    \"name\": \"Rabina\",\n",
    "    \"age\": 21,\n",
    "    \"college\": \"Cosmos\"\n",
    "}\n",
    "print(student)"
   ]
  },
  {
   "cell_type": "code",
   "execution_count": null,
   "id": "5a90e26b-81e9-4cb1-be1e-8b60e96bdb9f",
   "metadata": {},
   "outputs": [],
   "source": [
    "##Accessing Values\n",
    "print(student[\"name\"])    \n",
    "print(student.get(\"age\"))"
   ]
  },
  {
   "cell_type": "code",
   "execution_count": null,
   "id": "d6af1e16-f6f5-40a9-ad35-eca7534a644d",
   "metadata": {},
   "outputs": [],
   "source": [
    "##Changing or Adding Values\n",
    "student[\"age\"] = 22           # change value\n",
    "student[\"city\"] = \"Kathmandu\" # add new key-value\n",
    "print(student)"
   ]
  },
  {
   "cell_type": "code",
   "execution_count": null,
   "id": "d6d0d737-63ec-4060-b178-ad0b0f7e3257",
   "metadata": {},
   "outputs": [],
   "source": [
    "##Removing Items\n",
    "del student[\"college\"]    # remove by key\n",
    "city = student.pop(\"city\") # remove and return value\n",
    "print(student, city)"
   ]
  },
  {
   "cell_type": "code",
   "execution_count": null,
   "id": "bed61ffd-41dd-4b77-abb0-9fe6774cc7fe",
   "metadata": {},
   "outputs": [],
   "source": [
    "##Looping Through a Dictionary\n",
    "student = {\"name\": \"Rabina\", \"age\": 21}\n",
    "\n",
    "# Loop through keys\n",
    "for key in student:\n",
    "    print(key)\n",
    "\n",
    "# Loop through values\n",
    "for value in student.values():\n",
    "    print(value)\n",
    "\n",
    "# Loop through key-value pairs\n",
    "for key, value in student.items():\n",
    "    print(key, \":\", value)"
   ]
  },
  {
   "cell_type": "code",
   "execution_count": null,
   "id": "2927122c-0de1-4c22-b26e-adaac4bcf94c",
   "metadata": {},
   "outputs": [],
   "source": [
    "##Nested Dictionary\n",
    "students = {\n",
    "    \"s1\": {\"name\": \"Rabina\", \"age\": 21},\n",
    "    \"s2\": {\"name\": \"Juicy\", \"age\": 22}\n",
    "}\n",
    "\n",
    "print(students[\"s1\"][\"name\"])  # Rabina"
   ]
  },
  {
   "cell_type": "code",
   "execution_count": null,
   "id": "29ce31c3-6f75-4b58-905b-0d5725762f94",
   "metadata": {},
   "outputs": [],
   "source": [
    "##Operators\n",
    "Operators are used to perform operations on variables and values."
   ]
  },
  {
   "cell_type": "code",
   "execution_count": null,
   "id": "f76a450e-80da-47d8-82eb-e12dac433ae4",
   "metadata": {},
   "outputs": [],
   "source": [
    "Python divides the operators in the following groups:\n",
    "\n",
    "Arithmetic operators:+ Add, - Subtract, * Multiply, / Divide, // Floor divide, % Remainder, ** Power\n",
    "Assignment operators: = Assign, += Add & assign, -= Subtract & assign, *= Multiply & assign, /= Divide & assign, //= Floor divide & assign, %= Modulus & assign, **= Power & assign\n",
    "Comparison operators: == Equal, != Not equal, > Greater, < Less, >= Greater or equal, <= Less or equal\n",
    "Logical operators: and Both True, or Either True, not Invert value\n",
    "Identity operators: is → same object, is not → different object\n",
    "Bitwise operators: & AND, | OR, ^ XOR, ~ NOT, << Left shift, >> Right shift"
   ]
  },
  {
   "cell_type": "markdown",
   "id": "a1325d7d-3b66-4b04-b35c-a6061050e62e",
   "metadata": {},
   "source": [
    "## String"
   ]
  },
  {
   "cell_type": "code",
   "execution_count": null,
   "id": "b88e7af6-6db6-41d1-a33a-8cc56f4e5b2d",
   "metadata": {},
   "outputs": [],
   "source": [
    "##string: A string is a sequence of characters enclosed in quotes.\n",
    "Can be single '...', double \"...\", or triple '''...''' / \"\"\"...\"\"\" for multi-line strings.\n",
    "Strings are immutable → cannot change individual characters directly."
   ]
  },
  {
   "cell_type": "code",
   "execution_count": 44,
   "id": "7ec2b44b-f330-4a6b-a92b-b9f921b8335c",
   "metadata": {},
   "outputs": [],
   "source": [
    "##Creating Strings\n",
    "str1 = \"Hello\"\n",
    "str2 = 'Python'\n",
    "str3 = \"\"\"This is\n",
    "a multi-line\n",
    "string\"\"\""
   ]
  },
  {
   "cell_type": "code",
   "execution_count": 43,
   "id": "f701fef2-9c0a-490c-819f-047c39eb7809",
   "metadata": {},
   "outputs": [
    {
     "name": "stdout",
     "output_type": "stream",
     "text": [
      "P\n",
      "h\n",
      "n\n"
     ]
    }
   ],
   "source": [
    "##Accessing Characters\n",
    "text = \"Python\"\n",
    "print(text[0])   # P\n",
    "print(text[3])   # h\n",
    "print(text[-1])  # n (last character)"
   ]
  },
  {
   "cell_type": "code",
   "execution_count": null,
   "id": "9f2b51d2-e691-4591-bc6f-1fab128c5a8a",
   "metadata": {},
   "outputs": [],
   "source": [
    "##Slicing Strings\n",
    "text = \"Python\"\n",
    "print(text[0:4])  # 'Pyth' (from 0 to 3)\n",
    "print(text[2:])   # 'thon' (from 2 to end)\n",
    "print(text[:3])   # 'Pyt' (from start to 2)\n",
    "print(text[-4:-1])# 'tho' (negative indexing)"
   ]
  },
  {
   "cell_type": "markdown",
   "id": "6fccb9b3-7d69-4c4d-9711-8eb9e1143a3e",
   "metadata": {},
   "source": [
    "###  String Operations"
   ]
  },
  {
   "cell_type": "code",
   "execution_count": null,
   "id": "756579ef-0d84-4218-87e9-be4ea8101793",
   "metadata": {},
   "outputs": [],
   "source": [
    "##Concatenation\n",
    "a = \"Hello\"\n",
    "b = \"World\"\n",
    "c = a + \" \" + b\n",
    "print(c)   "
   ]
  },
  {
   "cell_type": "code",
   "execution_count": 45,
   "id": "c0ab016b-6b8f-46eb-9d40-754bd159adab",
   "metadata": {},
   "outputs": [
    {
     "name": "stdout",
     "output_type": "stream",
     "text": [
      "Hi! Hi! Hi! \n"
     ]
    }
   ],
   "source": [
    "##Repetition\n",
    "text = \"Hi! \"\n",
    "print(text * 3)  # Hi! Hi! Hi! "
   ]
  },
  {
   "cell_type": "code",
   "execution_count": 46,
   "id": "fde0e814-2551-41e4-a786-835a7d4cd76d",
   "metadata": {},
   "outputs": [
    {
     "name": "stdout",
     "output_type": "stream",
     "text": [
      "6\n"
     ]
    }
   ],
   "source": [
    "##Length\n",
    "text = \"Python\"\n",
    "print(len(text))  # 6"
   ]
  },
  {
   "cell_type": "code",
   "execution_count": 47,
   "id": "b8f3fe14-32bf-4e4c-9c9c-4019e0c8389c",
   "metadata": {},
   "outputs": [
    {
     "name": "stdout",
     "output_type": "stream",
     "text": [
      "PYTHON PROGRAMMING\n",
      "python programming\n",
      "Python Programming\n",
      "java programming\n",
      "['python', 'programming']\n",
      "True\n"
     ]
    }
   ],
   "source": [
    "##String Methods\n",
    "text = \"python programming\"\n",
    "\n",
    "print(text.upper())      # 'PYTHON PROGRAMMING'\n",
    "print(text.lower())      # 'python programming'\n",
    "print(text.title())      # 'Python Programming'\n",
    "print(text.replace(\"python\", \"java\"))  # 'java programming'\n",
    "print(text.split())      # ['python', 'programming']\n",
    "print(\"python\" in text)  # True"
   ]
  },
  {
   "cell_type": "markdown",
   "id": "8d82ab4f-1fcb-479e-8c42-f6daffc03efb",
   "metadata": {},
   "source": [
    "#### Control Flow (if, loops) in python"
   ]
  },
  {
   "cell_type": "code",
   "execution_count": null,
   "id": "93d1bc2d-06dc-438d-9a38-aa3a2eeedd4c",
   "metadata": {},
   "outputs": [],
   "source": [
    "if, elif, else statements"
   ]
  },
  {
   "cell_type": "code",
   "execution_count": 48,
   "id": "2fa8880b-b871-4a22-bc0a-dae741eeb70e",
   "metadata": {},
   "outputs": [
    {
     "name": "stdout",
     "output_type": "stream",
     "text": [
      "You are a teenager.\n"
     ]
    }
   ],
   "source": [
    "age = 18\n",
    "\n",
    "if age < 13:\n",
    "    print(\"You are a child.\")\n",
    "elif age < 20:\n",
    "    print(\"You are a teenager.\")\n",
    "else:\n",
    "    print(\"You are an adult.\")\n"
   ]
  },
  {
   "cell_type": "code",
   "execution_count": null,
   "id": "55247d07-efd0-4002-b4da-bb3bf29277ac",
   "metadata": {},
   "outputs": [],
   "source": [
    "##Loops"
   ]
  },
  {
   "cell_type": "code",
   "execution_count": null,
   "id": "f7245744-537b-4efb-bd70-bd1a41fce586",
   "metadata": {},
   "outputs": [],
   "source": [
    "#for loop"
   ]
  },
  {
   "cell_type": "code",
   "execution_count": 49,
   "id": "ab91938d-6d90-4dde-bc02-4692535fa02d",
   "metadata": {},
   "outputs": [
    {
     "name": "stdout",
     "output_type": "stream",
     "text": [
      "apple\n",
      "banana\n",
      "mango\n"
     ]
    }
   ],
   "source": [
    "#Looping over a list\n",
    "fruits = [\"apple\", \"banana\", \"mango\"]\n",
    "for fruit in fruits:\n",
    "    print(fruit)"
   ]
  },
  {
   "cell_type": "code",
   "execution_count": 50,
   "id": "4b9d3bec-9ff4-44c6-8386-9ca370885021",
   "metadata": {},
   "outputs": [
    {
     "name": "stdout",
     "output_type": "stream",
     "text": [
      "0\n",
      "1\n",
      "2\n",
      "3\n",
      "4\n"
     ]
    }
   ],
   "source": [
    "#Using range()\n",
    "for i in range(5):  # 0 to 4\n",
    "    print(i)"
   ]
  },
  {
   "cell_type": "code",
   "execution_count": 51,
   "id": "bfa22264-6d3c-44ae-9af3-097b23d07ef0",
   "metadata": {},
   "outputs": [],
   "source": [
    "##while loop: Repeats as long as a condition is True."
   ]
  },
  {
   "cell_type": "code",
   "execution_count": 52,
   "id": "cdddefa2-b2a7-4e92-8fa7-9fb4fb91e988",
   "metadata": {},
   "outputs": [
    {
     "name": "stdout",
     "output_type": "stream",
     "text": [
      "0\n",
      "1\n",
      "2\n",
      "3\n",
      "4\n"
     ]
    }
   ],
   "source": [
    "count = 0\n",
    "while count < 5:\n",
    "    print(count)\n",
    "    count += 1"
   ]
  },
  {
   "cell_type": "code",
   "execution_count": null,
   "id": "4b3466eb-05c8-4bb0-a866-b3ad07a2aca2",
   "metadata": {},
   "outputs": [],
   "source": [
    "##Loop control statements"
   ]
  },
  {
   "cell_type": "code",
   "execution_count": null,
   "id": "9c204d21-594d-48d5-a34f-c61f0c77ff54",
   "metadata": {},
   "outputs": [],
   "source": [
    "break\tStops the loop completely\n",
    "continue\tSkips the current iteration, moves to the next one\n",
    "pass\tDoes nothing (placeholder for future code)"
   ]
  },
  {
   "cell_type": "code",
   "execution_count": 53,
   "id": "97babaa8-613b-4c64-afe0-5dbaaeaeee4e",
   "metadata": {},
   "outputs": [
    {
     "name": "stdout",
     "output_type": "stream",
     "text": [
      "0\n",
      "1\n",
      "2\n"
     ]
    }
   ],
   "source": [
    "for i in range(5):\n",
    "    if i == 3:\n",
    "        break  # stops the loop\n",
    "    print(i)"
   ]
  },
  {
   "cell_type": "code",
   "execution_count": 54,
   "id": "6fcbe7a2-26b3-443e-ab16-d00045427971",
   "metadata": {},
   "outputs": [
    {
     "name": "stdout",
     "output_type": "stream",
     "text": [
      "0\n",
      "1\n",
      "3\n",
      "4\n"
     ]
    }
   ],
   "source": [
    "for i in range(5):\n",
    "    if i == 2:\n",
    "        continue  # skip this iteration\n",
    "    print(i)"
   ]
  },
  {
   "cell_type": "code",
   "execution_count": null,
   "id": "ae3476da-2814-46bf-8e4c-93bc2fede068",
   "metadata": {},
   "outputs": [],
   "source": []
  },
  {
   "cell_type": "code",
   "execution_count": null,
   "id": "c9bc89cc-a631-4266-a559-b9c9d41e55ce",
   "metadata": {},
   "outputs": [],
   "source": []
  },
  {
   "cell_type": "code",
   "execution_count": null,
   "id": "7e9efc69-5a29-4d69-a2b6-16bdd824795d",
   "metadata": {},
   "outputs": [],
   "source": []
  },
  {
   "cell_type": "code",
   "execution_count": null,
   "id": "27658c74-d3d9-478f-8b54-185c3f395117",
   "metadata": {},
   "outputs": [],
   "source": []
  },
  {
   "cell_type": "code",
   "execution_count": null,
   "id": "8f291c79-d0c1-49b0-9819-db14d8f73e84",
   "metadata": {},
   "outputs": [],
   "source": []
  },
  {
   "cell_type": "code",
   "execution_count": null,
   "id": "d7973fd3-651b-495f-8861-5509046c9be1",
   "metadata": {},
   "outputs": [],
   "source": []
  },
  {
   "cell_type": "code",
   "execution_count": null,
   "id": "fc0efdb6-112b-45fe-8c7f-598c816f4b79",
   "metadata": {},
   "outputs": [],
   "source": []
  },
  {
   "cell_type": "code",
   "execution_count": null,
   "id": "f733e98c-964d-468e-865e-15894e1a9703",
   "metadata": {},
   "outputs": [],
   "source": []
  },
  {
   "cell_type": "code",
   "execution_count": null,
   "id": "a7bf4720-642b-4bd7-864a-87e84cfc08eb",
   "metadata": {},
   "outputs": [],
   "source": []
  },
  {
   "cell_type": "code",
   "execution_count": null,
   "id": "90fec240-1a40-4b67-8e05-92bec205a493",
   "metadata": {},
   "outputs": [],
   "source": []
  }
 ],
 "metadata": {
  "kernelspec": {
   "display_name": "Python 3 (ipykernel)",
   "language": "python",
   "name": "python3"
  },
  "language_info": {
   "codemirror_mode": {
    "name": "ipython",
    "version": 3
   },
   "file_extension": ".py",
   "mimetype": "text/x-python",
   "name": "python",
   "nbconvert_exporter": "python",
   "pygments_lexer": "ipython3",
   "version": "3.13.3"
  }
 },
 "nbformat": 4,
 "nbformat_minor": 5
}
