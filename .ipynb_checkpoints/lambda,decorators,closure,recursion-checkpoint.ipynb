{
 "cells": [
  {
   "cell_type": "markdown",
   "id": "c5c19b2e-8ca9-446b-96a2-ff65a975b7cf",
   "metadata": {},
   "source": [
    "### LamdaFunction"
   ]
  },
  {
   "cell_type": "code",
   "execution_count": null,
   "id": "2edb38f2-e865-4d16-b783-602a112e36c4",
   "metadata": {},
   "outputs": [],
   "source": [
    "A lambda function is a small anonymous function.ie anonymous means naam navako function\n",
    "A lambda function can take any number of arguments, but can only have one expression.\n",
    "short line of code chahexa instead of normal function, quickly execute garxa xa ra ekchoti matrxa use garxa bhaney lamda function use garinxa"
   ]
  },
  {
   "cell_type": "code",
   "execution_count": null,
   "id": "6b910aef-fafc-4630-be2c-b1887a2a6b79",
   "metadata": {},
   "outputs": [],
   "source": [
    "lamda function kina use garinxa ta instead of normal function because yo chai short line of code ma hunxa,normal function vanda ani ekchoti matra use garna xa bhaney use garinxa\n",
    "yesma auta matra expression hunxa ra no of arguments chai derai linxa yesle"
   ]
  },
  {
   "cell_type": "code",
   "execution_count": null,
   "id": "02970f2b-92d1-46d5-904a-17f3f7440121",
   "metadata": {},
   "outputs": [],
   "source": [
    "The power of lambda is better shown when you use them as an anonymous function inside another function. meaning lamda use garnu ko faida chai if normal function ko bhitra chai lamda use garim vaney\n"
   ]
  },
  {
   "cell_type": "code",
   "execution_count": 1,
   "id": "acadad65-a5fb-4689-a10b-8fa28e430a47",
   "metadata": {},
   "outputs": [],
   "source": [
    "#Say you have a function definition that takes one argument, and that argument will be multiplied with an unknown number:\n",
    "def myfunc(n):\n",
    "  return lambda a : a * n"
   ]
  },
  {
   "cell_type": "markdown",
   "id": "c08d49d0-bfac-4d4f-85a6-fa47edbbc362",
   "metadata": {},
   "source": [
    "### syntax"
   ]
  },
  {
   "cell_type": "code",
   "execution_count": 2,
   "id": "3a162b15-664c-4d23-9b32-f3a8e6657185",
   "metadata": {},
   "outputs": [
    {
     "name": "stdout",
     "output_type": "stream",
     "text": [
      "15\n"
     ]
    }
   ],
   "source": [
    "#lambda arguments : expression\n",
    "#example \n",
    "x = lambda a : a + 10\n",
    "print(x(5))"
   ]
  },
  {
   "cell_type": "code",
   "execution_count": 3,
   "id": "7875b4c4-a02d-426d-8feb-b61f20942ca9",
   "metadata": {},
   "outputs": [
    {
     "name": "stdout",
     "output_type": "stream",
     "text": [
      "30\n"
     ]
    }
   ],
   "source": [
    "x = lambda a, b : a * b\n",
    "print(x(5, 6))"
   ]
  },
  {
   "cell_type": "code",
   "execution_count": 4,
   "id": "91f30c9f-d333-4c6e-b686-59fe956ec871",
   "metadata": {},
   "outputs": [
    {
     "name": "stdout",
     "output_type": "stream",
     "text": [
      "13\n"
     ]
    }
   ],
   "source": [
    "x = lambda a, b, c : a + b + c\n",
    "print(x(5, 6, 2))"
   ]
  },
  {
   "cell_type": "code",
   "execution_count": 5,
   "id": "4f123875-26a7-43bd-ae8d-f0e32c90642a",
   "metadata": {},
   "outputs": [],
   "source": [
    "#Instead of writing a full function:\n",
    "def square(x):\n",
    "    return x**2"
   ]
  },
  {
   "cell_type": "code",
   "execution_count": 6,
   "id": "b7376ed5-feb2-48a5-bede-ddeebe8a20b9",
   "metadata": {},
   "outputs": [],
   "source": [
    "#You can use a lambda:\n",
    "square = lambda x: x**2 # is One line, no name needed if used immediately."
   ]
  },
  {
   "cell_type": "code",
   "execution_count": null,
   "id": "4b481e50-1a14-4f75-8547-fced738a0c6f",
   "metadata": {},
   "outputs": [],
   "source": [
    "#Used with Functions Like map, filter, sorted"
   ]
  },
  {
   "cell_type": "code",
   "execution_count": 9,
   "id": "2a00ebdf-6a88-40b1-8d98-4098a27b1bab",
   "metadata": {},
   "outputs": [
    {
     "data": {
      "text/plain": [
       "[1, 4, 9]"
      ]
     },
     "execution_count": 9,
     "metadata": {},
     "output_type": "execute_result"
    }
   ],
   "source": [
    "#map\n",
    "numbers = [1, 2, 3]\n",
    "squared = list(map(lambda x: x**2, numbers))\n",
    "squared"
   ]
  },
  {
   "cell_type": "code",
   "execution_count": 11,
   "id": "f55ff2ee-773c-49dd-8527-37828d4207a1",
   "metadata": {},
   "outputs": [
    {
     "data": {
      "text/plain": [
       "[2, 4]"
      ]
     },
     "execution_count": 11,
     "metadata": {},
     "output_type": "execute_result"
    }
   ],
   "source": [
    "#filter\n",
    "numbers = [1, 2, 3, 4]\n",
    "even = list(filter(lambda x: x % 2 == 0, numbers))\n",
    "even"
   ]
  },
  {
   "cell_type": "code",
   "execution_count": 12,
   "id": "f63e9f80-0c0a-4233-b24c-509a0eafbfab",
   "metadata": {},
   "outputs": [
    {
     "data": {
      "text/plain": [
       "['Bob', 'Alice', 'Charlie']"
      ]
     },
     "execution_count": 12,
     "metadata": {},
     "output_type": "execute_result"
    }
   ],
   "source": [
    "#sort\n",
    "names = ['Alice', 'Bob', 'Charlie']\n",
    "sorted_names = sorted(names, key=lambda x: len(x))  # sort by length\n",
    "sorted_names"
   ]
  },
  {
   "cell_type": "code",
   "execution_count": 15,
   "id": "4b618a29-6078-4b97-b3f6-a334c8e64671",
   "metadata": {},
   "outputs": [
    {
     "name": "stdout",
     "output_type": "stream",
     "text": [
      "9\n"
     ]
    }
   ],
   "source": [
    "#Add two numbers\n",
    "numbers = lambda x, y : x+y\n",
    "print(numbers(4,5))"
   ]
  },
  {
   "cell_type": "code",
   "execution_count": 16,
   "id": "50ff5163-4544-4f85-a43e-17a83acc6f77",
   "metadata": {},
   "outputs": [
    {
     "name": "stdout",
     "output_type": "stream",
     "text": [
      "64\n"
     ]
    }
   ],
   "source": [
    "#Square a number\n",
    "squares = lambda a : a**2\n",
    "print(squares(8))"
   ]
  },
  {
   "cell_type": "code",
   "execution_count": 19,
   "id": "ac926367-6f71-4e57-a20c-9e01f40d8607",
   "metadata": {},
   "outputs": [
    {
     "name": "stdout",
     "output_type": "stream",
     "text": [
      "False\n",
      "True\n"
     ]
    }
   ],
   "source": [
    "#Check if a number is even\n",
    "num = lambda a : a % 2 == 0\n",
    "print(num(9))\n",
    "print(num(8))"
   ]
  },
  {
   "cell_type": "code",
   "execution_count": 22,
   "id": "038af99e-3b34-4403-8e6a-5411790fa165",
   "metadata": {},
   "outputs": [
    {
     "name": "stdout",
     "output_type": "stream",
     "text": [
      "12\n"
     ]
    }
   ],
   "source": [
    "#Maximum of two numbers\n",
    "max = lambda a, b: a if a > b else b\n",
    "print(max(12,4))"
   ]
  },
  {
   "cell_type": "code",
   "execution_count": 24,
   "id": "f03176ed-9d8b-4b61-968c-f5ab08e30d9a",
   "metadata": {},
   "outputs": [
    {
     "name": "stdout",
     "output_type": "stream",
     "text": [
      "70\n"
     ]
    }
   ],
   "source": [
    "#Returning a lambda from another function (dynamic)\n",
    "def mult(n):\n",
    "    return lambda x : x*n\n",
    "times3 = mult(7) \n",
    "print(times3(10))"
   ]
  },
  {
   "cell_type": "markdown",
   "id": "56439029-75e5-43f7-8205-ffdfd60d46c1",
   "metadata": {},
   "source": [
    "#### Decorator"
   ]
  },
  {
   "cell_type": "code",
   "execution_count": null,
   "id": "d55729fb-ddd6-429d-a573-355269474921",
   "metadata": {},
   "outputs": [],
   "source": [
    "decorator vaneko function or class  ma kunai pani naya extra functionality add garne without changing its code\n",
    "deocrator basically auta function ho jasle auta naya function as a input linxa ra arko naya function return garxa\n",
    "decorators are written using the @decorator_name "
   ]
  },
  {
   "cell_type": "markdown",
   "id": "ba4094ee-f501-410e-be68-da7328bc4e9b",
   "metadata": {},
   "source": [
    "## useofdecorators"
   ]
  },
  {
   "cell_type": "code",
   "execution_count": 26,
   "id": "57e87ee6-f891-4e23-adc5-185763a10b3b",
   "metadata": {},
   "outputs": [
    {
     "name": "stdout",
     "output_type": "stream",
     "text": [
      "Before the function runs\n",
      "Hello!\n",
      "After the function runs\n"
     ]
    }
   ],
   "source": [
    "#Simple Example\n",
    "def my_decorator(func): # my_decorator vaney auta decorator define gareko yesma \n",
    "    def wrapper(): # ra decorator bhitra arko function banako\n",
    "        print(\"Before the function runs\")\n",
    "        func()\n",
    "        print(\"After the function runs\")\n",
    "    return wrapper # yesle wrapper lai return garxa\n",
    "\n",
    "@my_decorator # yesle wrapper return garxa\n",
    "def say_hello(): #say_hello vane function banauxa python le paila the as a argument pass garxa yeslai my_decorators ma\n",
    "    print(\"Hello!\")\n",
    "\n",
    "say_hello()"
   ]
  },
  {
   "cell_type": "markdown",
   "id": "29417a8d-d9b0-4e30-97dd-25458218c9c8",
   "metadata": {},
   "source": [
    "### Decorators with Arguments"
   ]
  },
  {
   "cell_type": "code",
   "execution_count": null,
   "id": "8427e569-ee75-4595-bc74-ba8614ec1d2d",
   "metadata": {},
   "outputs": [],
   "source": [
    "hamle decorator ma arguments haru ni pass garna sakxam"
   ]
  },
  {
   "cell_type": "code",
   "execution_count": 27,
   "id": "ae0250fe-ff43-4d53-a7bc-81d0ae7c2ae8",
   "metadata": {},
   "outputs": [
    {
     "name": "stdout",
     "output_type": "stream",
     "text": [
      "Start\n",
      "End\n",
      "8\n"
     ]
    }
   ],
   "source": [
    "def my_decorator(func): #my_decorator vane decorator banako which take function as input aba\n",
    "    def wrapper(*args, **kwargs): #wrapper bane naya function define gareko \n",
    "        print(\"Start\")\n",
    "        result = func(*args, **kwargs)\n",
    "        print(\"End\")\n",
    "        return result\n",
    "    return wrapper\n",
    "\n",
    "@my_decorator\n",
    "def add(a, b):\n",
    "    return a + b\n",
    "\n",
    "print(add(5, 3))"
   ]
  },
  {
   "cell_type": "code",
   "execution_count": null,
   "id": "aa22f887-4886-495a-8771-dae08efea589",
   "metadata": {},
   "outputs": [],
   "source": [
    "*args\n",
    "\n",
    "args = positional arguments.()\n",
    "\n",
    "The * tells Python: \"collect all extra positional arguments into a tuple\".\n",
    "\n",
    "    "
   ]
  },
  {
   "cell_type": "code",
   "execution_count": 28,
   "id": "9764d7af-b182-48e8-ba12-e88352851825",
   "metadata": {},
   "outputs": [
    {
     "name": "stdout",
     "output_type": "stream",
     "text": [
      "(1, 2, 3)\n"
     ]
    }
   ],
   "source": [
    "def demo(*args):\n",
    "    print(args)\n",
    "\n",
    "demo(1, 2, 3)"
   ]
  },
  {
   "cell_type": "code",
   "execution_count": null,
   "id": "791f3047-6d78-4e7d-ad02-156d4bd18209",
   "metadata": {},
   "outputs": [],
   "source": [
    "args is a tuple (1, 2, 3)."
   ]
  },
  {
   "cell_type": "code",
   "execution_count": null,
   "id": "28246d0a-e6d7-4102-b1ff-6572bd32cf25",
   "metadata": {},
   "outputs": [],
   "source": [
    "**kwargs\n",
    "\n",
    "kwargs = keyword arguments.(keyword arguments vaneko chai parametere haru ko name vako ie name le pass garne milne)\n",
    "\n",
    "The ** tells Python: \"collect all extra keyword arguments into a dictionary\"."
   ]
  },
  {
   "cell_type": "code",
   "execution_count": 29,
   "id": "07b0ef12-bee9-483d-9411-c3ca231c4d69",
   "metadata": {},
   "outputs": [
    {
     "name": "stdout",
     "output_type": "stream",
     "text": [
      "{'a': 1, 'b': 2, 'c': 3}\n"
     ]
    }
   ],
   "source": [
    "def demo(**kwargs):\n",
    "    print(kwargs)\n",
    "\n",
    "demo(a=1, b=2, c=3)"
   ]
  },
  {
   "cell_type": "code",
   "execution_count": null,
   "id": "eafcee44-671b-4ec0-8839-503d78e64f87",
   "metadata": {},
   "outputs": [],
   "source": [
    "kwargs is a dictionary of all the named arguments."
   ]
  },
  {
   "cell_type": "markdown",
   "id": "3136a52d-1ea0-42b1-8f18-e2611c4ef0ce",
   "metadata": {},
   "source": [
    "## Closure"
   ]
  },
  {
   "cell_type": "code",
   "execution_count": null,
   "id": "b3011410-8d87-4927-ab00-da850a70389d",
   "metadata": {},
   "outputs": [],
   "source": [
    "A function defined inside another function can “remember” the outer function’s variables.\n",
    "\n",
    "This allows the inner function to access those variables even after the outer function has returned."
   ]
  },
  {
   "cell_type": "code",
   "execution_count": null,
   "id": "cab76233-7c95-406c-95fe-69225dcf3616",
   "metadata": {},
   "outputs": [],
   "source": [
    "def add_x(x):\n",
    "    return lambda y: x + y\n",
    "\n",
    "add5 = add_x(5)\n",
    "print(add5(10))  # Output: 15\n"
   ]
  },
  {
   "cell_type": "code",
   "execution_count": null,
   "id": "6470f3d9-9ded-417e-8c51-993cb0a13b13",
   "metadata": {},
   "outputs": [],
   "source": [
    "add_x(5) → returns a lambda function that adds 5 to its input.\n",
    "\n",
    "add5 now remembers x = 5.\n",
    "\n",
    "add5(10) → computes 5 + 10 = 15.\n",
    "\n",
    "✅ Key idea: The lambda (inner function) remembers x from the outer function."
   ]
  },
  {
   "cell_type": "markdown",
   "id": "f6efb212-d2ec-441a-bd44-eac939cc5144",
   "metadata": {},
   "source": [
    "###  Recursion"
   ]
  },
  {
   "cell_type": "code",
   "execution_count": null,
   "id": "fe204263-55f2-43e1-9959-3750f7c3bfc0",
   "metadata": {},
   "outputs": [],
   "source": [
    "a function that call itself"
   ]
  },
  {
   "cell_type": "code",
   "execution_count": 30,
   "id": "8e74cfd8-e261-4b3e-94f8-af35e2809663",
   "metadata": {},
   "outputs": [
    {
     "name": "stdout",
     "output_type": "stream",
     "text": [
      "5\n",
      "4\n",
      "3\n",
      "2\n",
      "1\n",
      "Blast off!\n"
     ]
    }
   ],
   "source": [
    "def countdown(n): define function that take n arguments\n",
    "    if n == 0:          # base case\n",
    "        print(\"Blast off!\")\n",
    "    else:\n",
    "        print(n)\n",
    "        countdown(n-1)  # recursive call ie the function call itself with the n-1\n",
    "\n",
    "countdown(5) #start countdown from 5\n"
   ]
  },
  {
   "cell_type": "code",
   "execution_count": null,
   "id": "25f67dbf-24ed-4448-a3ca-9beb6f800b47",
   "metadata": {},
   "outputs": [],
   "source": []
  },
  {
   "cell_type": "code",
   "execution_count": null,
   "id": "3a3b4062-2e64-4a6d-ab9f-dd83462b8c8e",
   "metadata": {},
   "outputs": [],
   "source": []
  },
  {
   "cell_type": "code",
   "execution_count": null,
   "id": "536d5a48-ddcc-461d-b5ed-389e0af6133f",
   "metadata": {},
   "outputs": [],
   "source": []
  },
  {
   "cell_type": "code",
   "execution_count": null,
   "id": "54f8ccc2-a4af-4f90-afa4-09697e66b991",
   "metadata": {},
   "outputs": [],
   "source": []
  },
  {
   "cell_type": "code",
   "execution_count": null,
   "id": "473890a2-42dc-466f-b166-bae49a493a28",
   "metadata": {},
   "outputs": [],
   "source": []
  },
  {
   "cell_type": "code",
   "execution_count": null,
   "id": "62509b1d-e74f-4488-a9b7-a1e078015494",
   "metadata": {},
   "outputs": [],
   "source": []
  },
  {
   "cell_type": "code",
   "execution_count": null,
   "id": "d1c39ac1-30ad-44a9-bab2-758966b5e6b7",
   "metadata": {},
   "outputs": [],
   "source": []
  },
  {
   "cell_type": "code",
   "execution_count": null,
   "id": "0e8056d3-717f-4c7d-9563-bb41e69abae6",
   "metadata": {},
   "outputs": [],
   "source": []
  },
  {
   "cell_type": "code",
   "execution_count": null,
   "id": "62b0e373-9e29-465a-916c-b79c46426f38",
   "metadata": {},
   "outputs": [],
   "source": []
  },
  {
   "cell_type": "code",
   "execution_count": null,
   "id": "281546f2-3039-4b16-af75-e7cc7d8ad3af",
   "metadata": {},
   "outputs": [],
   "source": []
  }
 ],
 "metadata": {
  "kernelspec": {
   "display_name": "Python 3 (ipykernel)",
   "language": "python",
   "name": "python3"
  },
  "language_info": {
   "codemirror_mode": {
    "name": "ipython",
    "version": 3
   },
   "file_extension": ".py",
   "mimetype": "text/x-python",
   "name": "python",
   "nbconvert_exporter": "python",
   "pygments_lexer": "ipython3",
   "version": "3.13.3"
  }
 },
 "nbformat": 4,
 "nbformat_minor": 5
}
