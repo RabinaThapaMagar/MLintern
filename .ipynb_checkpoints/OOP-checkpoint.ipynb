{
 "cells": [
  {
   "cell_type": "markdown",
   "id": "594f4780-3f9f-4010-a734-ba53c3125460",
   "metadata": {},
   "source": [
    "## OOP"
   ]
  },
  {
   "cell_type": "code",
   "execution_count": null,
   "id": "90292c4b-36a3-466d-8e1f-799a112de3c5",
   "metadata": {},
   "outputs": [],
   "source": [
    "Object-Oriented Programming is a programming paradigm that uses objects to represent real-world entities. It focuses on data (attributes) and behavior (methods) together.\n",
    "\n",
    "Key Concepts:\n",
    "\n",
    "Class: Blueprint of an object.\n",
    "\n",
    "Object: An instance of a class.\n",
    "\n",
    "Attributes: Variables that belong to an object.\n",
    "\n",
    "Methods: Functions that belong to an object.\n",
    "\n",
    "Encapsulation: Keeping data safe inside objects.\n",
    "\n",
    "Inheritance: Reusing code from another class.\n",
    "\n",
    "Polymorphism: Same method, different behavior.\n",
    "\n",
    "Abstraction: Hiding unnecessary details."
   ]
  },
  {
   "cell_type": "code",
   "execution_count": 2,
   "id": "ec1da067-6deb-4753-a9c4-5cf32c3687e2",
   "metadata": {},
   "outputs": [
    {
     "name": "stdout",
     "output_type": "stream",
     "text": [
      "Alice\n",
      "25\n",
      "Hi, my name is Alice and I am 25 years old.\n"
     ]
    }
   ],
   "source": [
    "# Define a class\n",
    "class Person:\n",
    "    def __init__(self, name, age):  # instance attributes, _init_ is a constructor that call itself when an obejct is created\n",
    "        self.name = name #An instance is a specific object created from a class. ex: self \n",
    "        self.age = age # name, age are the attributes\n",
    "\n",
    "    def greet(self):  # method\n",
    "        print(f\"Hi, my name is {self.name} and I am {self.age} years old.\")\n",
    "\n",
    "# Create an object / instance\n",
    "person1 = Person(\"Alice\", 25) # person1 bhaney object banako where values are passed to the init constructor that lies inside the person\n",
    "\n",
    "# Access attributes\n",
    "print(person1.name)  # Alice\n",
    "print(person1.age)   # 25\n",
    "\n",
    "# Call method\n",
    "person1.greet()  # Hi, my name is Alice and I am 25 years old.\n"
   ]
  },
  {
   "cell_type": "markdown",
   "id": "e640a496-5379-4f17-bccc-fdc5b1795949",
   "metadata": {},
   "source": [
    "## Inheritance"
   ]
  },
  {
   "cell_type": "code",
   "execution_count": null,
   "id": "d7055c4c-9791-4efb-835e-3b5588f6330d",
   "metadata": {},
   "outputs": [],
   "source": [
    "Inheritance is the way jasma chai child class le afno parent class ko properties use garxa"
   ]
  },
  {
   "cell_type": "code",
   "execution_count": 3,
   "id": "a86430ce-24a0-4199-9cc2-3f0228adbf66",
   "metadata": {},
   "outputs": [
    {
     "name": "stdout",
     "output_type": "stream",
     "text": [
      "Eating...\n",
      "Woof!\n"
     ]
    }
   ],
   "source": [
    "class Animal:\n",
    "    def eat(self): #self always refers to the object that called the method.\n",
    "        print(\"Eating...\")\n",
    "\n",
    "class Dog(Animal):  # Dog inherits from Animal\n",
    "    def bark(self):\n",
    "        print(\"Woof!\")\n",
    "\n",
    "dog1 = Dog()\n",
    "dog1.eat()   # Inherited from Animal\n",
    "dog1.bark()  # Defined in Dog\n"
   ]
  },
  {
   "cell_type": "markdown",
   "id": "a8440b08-43c7-4454-998e-69e47fdd8bbb",
   "metadata": {},
   "source": [
    "## Public and Private ie access variables in python"
   ]
  },
  {
   "cell_type": "code",
   "execution_count": 4,
   "id": "f572ddff-df95-42ca-befa-fc8f52b45cf4",
   "metadata": {},
   "outputs": [
    {
     "name": "stdout",
     "output_type": "stream",
     "text": [
      "Alice\n",
      "25\n"
     ]
    }
   ],
   "source": [
    "class Person:\n",
    "    def __init__(self, name, age):\n",
    "        self.name = name       # public variable ie These can be accessed directly from the object.\n",
    "        self.__age = age       # private variable ie private variables banauna lai double underscore use garinxa\n",
    "\n",
    "    # Method to access private variable\n",
    "    def get_age(self):\n",
    "        return self.__age\n",
    "\n",
    "# Create object\n",
    "person1 = Person(\"Alice\", 25)\n",
    "\n",
    "# Access public variable directly\n",
    "print(person1.name)  # Alice\n",
    "\n",
    "# Access private variable via method\n",
    "print(person1.get_age())  # 25\n"
   ]
  },
  {
   "cell_type": "code",
   "execution_count": null,
   "id": "c59096c6-71fd-467d-b0fd-dc3caf034d02",
   "metadata": {},
   "outputs": [],
   "source": [
    "##Encapsulation: \n",
    "Encapsulation means hiding internal details of a class and only exposing what’s necessary. It helps to protect important data from being changed directly and keeps the code secure and organized.\n",
    "Hiding the internal details of an object and controlling access to its data."
   ]
  },
  {
   "cell_type": "code",
   "execution_count": 5,
   "id": "91b653af-dfd7-40dc-b4c6-e0101cb3b699",
   "metadata": {},
   "outputs": [
    {
     "name": "stdout",
     "output_type": "stream",
     "text": [
      "90\n"
     ]
    }
   ],
   "source": [
    "class Student:\n",
    "    def __init__(self, marks):\n",
    "        self.__marks = marks  # private variable\n",
    "\n",
    "    def get_marks(self):      # public method to access private variable\n",
    "        return self.__marks  #This is a public method (can be called from outside).#return self.__marks gives access to the private variable safely.\n",
    "        #This is part of encapsulation — data is hidden but accessible through methods.\n",
    "        \n",
    "\n",
    "student1 = Student(90)\n",
    "print(student1.get_marks())  # 90\n"
   ]
  },
  {
   "cell_type": "code",
   "execution_count": null,
   "id": "4322fab2-1f29-49ad-ae97-ce66251bf384",
   "metadata": {},
   "outputs": [],
   "source": [
    "__marks → private, hidden from outside.\n",
    "\n",
    "get_marks() → method to access it safely."
   ]
  },
  {
   "cell_type": "code",
   "execution_count": null,
   "id": "fe344f11-11bc-4465-961f-6218d8b9f865",
   "metadata": {},
   "outputs": [],
   "source": [
    "##polymorphism: \n",
    "Polymorphism allows the same method name to behave differently."
   ]
  },
  {
   "cell_type": "code",
   "execution_count": 6,
   "id": "75e2c349-dc76-45a5-b944-dd6f30be4f84",
   "metadata": {},
   "outputs": [
    {
     "name": "stdout",
     "output_type": "stream",
     "text": [
      "Woof!\n",
      "Meow!\n"
     ]
    }
   ],
   "source": [
    "class Dog:\n",
    "    def speak(self):\n",
    "        print(\"Woof!\")\n",
    "\n",
    "class Cat:\n",
    "    def speak(self): # method with same name that works differently\n",
    "        print(\"Meow!\")\n",
    "\n",
    "animals = [Dog(), Cat()]\n",
    "\n",
    "for animal in animals:\n",
    "    animal.speak()\n"
   ]
  },
  {
   "cell_type": "markdown",
   "id": "4967fc9b-7ea0-4761-af2e-a5246fefa89c",
   "metadata": {},
   "source": [
    "### Abstraction"
   ]
  },
  {
   "cell_type": "code",
   "execution_count": null,
   "id": "2deadd06-28e6-45c0-b568-615f3b8b4d80",
   "metadata": {},
   "outputs": [],
   "source": [
    "Hiding complex implementation details and showing only the essential features to the user.\n",
    "abstraction is done in  Python using:\n",
    "\n",
    "Abstract Classes\n",
    "\n",
    "Abstract Methods"
   ]
  },
  {
   "cell_type": "code",
   "execution_count": null,
   "id": "32f6d594-fd3b-4684-8ad5-597fa2de66aa",
   "metadata": {},
   "outputs": [],
   "source": [
    "#Using abc Module\n",
    "#Python provides the abc module (Abstract Base Classes) to implement abstraction."
   ]
  },
  {
   "cell_type": "code",
   "execution_count": 7,
   "id": "a6972a68-2b51-4dfa-a1ba-72a3fbbda182",
   "metadata": {},
   "outputs": [
    {
     "name": "stdout",
     "output_type": "stream",
     "text": [
      "Car started\n"
     ]
    }
   ],
   "source": [
    "from abc import ABC, abstractmethod\n",
    "\n",
    "# Abstract class\n",
    "class Vehicle(ABC): # vehcicle is a abstract class\n",
    "\n",
    "    @abstractmethod\n",
    "    def start(self): #start() is an abstract method, meaning any subclass of Vehicle must implement start().\n",
    "        pass  # abstract method, no implementation\n",
    "\n",
    "# Concrete class\n",
    "class Car(Vehicle): #Car is a concrete class, a subclass of Vehicle.\n",
    "    def start(self):\n",
    "        print(\"Car started\")\n",
    "\n",
    "my_car = Car()\n",
    "my_car.start()  # Output: Car started\n"
   ]
  },
  {
   "cell_type": "code",
   "execution_count": null,
   "id": "6cfb413b-5831-45c1-8048-17bdc4c4b410",
   "metadata": {},
   "outputs": [],
   "source": []
  },
  {
   "cell_type": "code",
   "execution_count": null,
   "id": "31fd3c41-229e-44ae-98f6-3026a53ff28e",
   "metadata": {},
   "outputs": [],
   "source": []
  },
  {
   "cell_type": "code",
   "execution_count": null,
   "id": "cd18a0d2-c8c5-43ae-8417-383d5b81be2c",
   "metadata": {},
   "outputs": [],
   "source": []
  },
  {
   "cell_type": "code",
   "execution_count": null,
   "id": "bcd617e7-1693-48bb-ac58-0fee3cdaa13f",
   "metadata": {},
   "outputs": [],
   "source": []
  },
  {
   "cell_type": "code",
   "execution_count": null,
   "id": "86c96727-349a-45d7-8a08-2c6bec6f9249",
   "metadata": {},
   "outputs": [],
   "source": []
  },
  {
   "cell_type": "code",
   "execution_count": null,
   "id": "ee91cd2e-fa52-4e19-844b-6bffef29076a",
   "metadata": {},
   "outputs": [],
   "source": []
  },
  {
   "cell_type": "code",
   "execution_count": null,
   "id": "96438257-9848-4069-8199-fb16b2aab873",
   "metadata": {},
   "outputs": [],
   "source": []
  },
  {
   "cell_type": "code",
   "execution_count": null,
   "id": "881ba397-eaaa-4cf9-8310-eff006a56e34",
   "metadata": {},
   "outputs": [],
   "source": []
  },
  {
   "cell_type": "code",
   "execution_count": null,
   "id": "75b4891e-6c9a-4704-a651-3671ee30f0b8",
   "metadata": {},
   "outputs": [],
   "source": []
  },
  {
   "cell_type": "code",
   "execution_count": null,
   "id": "2b732fe5-8f63-40a1-95b0-8c0f6b9ea429",
   "metadata": {},
   "outputs": [],
   "source": []
  }
 ],
 "metadata": {
  "kernelspec": {
   "display_name": "Python 3 (ipykernel)",
   "language": "python",
   "name": "python3"
  },
  "language_info": {
   "codemirror_mode": {
    "name": "ipython",
    "version": 3
   },
   "file_extension": ".py",
   "mimetype": "text/x-python",
   "name": "python",
   "nbconvert_exporter": "python",
   "pygments_lexer": "ipython3",
   "version": "3.13.3"
  }
 },
 "nbformat": 4,
 "nbformat_minor": 5
}
