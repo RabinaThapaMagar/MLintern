{
 "cells": [
  {
   "cell_type": "code",
   "execution_count": null,
   "id": "50fdd742-6080-42a1-bddd-6689a3745ad1",
   "metadata": {},
   "outputs": [],
   "source": [
    "Requirements.txt: to chai auta plain text file ho jasma chai hamro project lai chahiye sabai python dependencies, package ra library haru ko lis haru hunxa"
   ]
  },
  {
   "cell_type": "code",
   "execution_count": null,
   "id": "de79209d-d6cf-46e7-a2bd-f8d6cacc6e87",
   "metadata": {},
   "outputs": [],
   "source": [
    "environment set up garna parxa afno project anusar ex if ma web app banaudai xu flask ma vane paxi, flask lai chahiey sabai package haru ko lits yo file ma hunxa"
   ]
  },
  {
   "cell_type": "code",
   "execution_count": null,
   "id": "cf0423eb-8a06-461f-9def-0103b3bbf365",
   "metadata": {},
   "outputs": [],
   "source": [
    "## How to create it\n",
    "1. Install your packages normally with pip install.\n",
    "2. Generate the file:\n",
    "pip freeze > requirements.txt #This will capture all installed packages and their versions.\n"
   ]
  },
  {
   "cell_type": "code",
   "execution_count": null,
   "id": "24f3964e-7576-4b08-836b-1cec1150ff1c",
   "metadata": {},
   "outputs": [],
   "source": [
    "# How to use it\n",
    "To install dependencies listed in the file:\n",
    "pip install -r requirements.txt\n"
   ]
  },
  {
   "cell_type": "code",
   "execution_count": null,
   "id": "47cd2fba-0ed1-490a-aa84-f9ab4cf46439",
   "metadata": {},
   "outputs": [],
   "source": [
    "README.md :  A plain text file with the extension .md.\n",
    "yo file chai project ko description haru ko barema lekhinxa, kasaile suru ma kolda herne vanekai yo file ho to know about the project"
   ]
  },
  {
   "cell_type": "code",
   "execution_count": null,
   "id": "adf15b1c-4be2-4364-a8ab-ea5a8be9b296",
   "metadata": {},
   "outputs": [],
   "source": [
    "##Python project structure\n",
    "project_name/\n",
    "│\n",
    "├── project_name/           # Main package\n",
    "│   ├── __init__.py         # Marks this directory as a package\n",
    "│   ├── module1.py          # Your code\n",
    "│   ├── module2.py\n",
    "│   └── subpackage/         # Optional subpackage\n",
    "│       ├── __init__.py\n",
    "│       └── submodule.py\n",
    "│\n",
    "├── tests/                  # Unit tests\n",
    "│   ├── __init__.py\n",
    "│   └── test_module1.py\n",
    "│\n",
    "├── scripts/                # Helper scripts/CLI tools (optional)\n",
    "│   └── run_app.py\n",
    "│\n",
    "├── docs/                   # Documentation (optional)\n",
    "│   └── index.md\n",
    "│\n",
    "├── .gitignore              # Git ignore rules\n",
    "├── requirements.txt        # Dependencies\n",
    "├── setup.py / pyproject.toml # Packaging/config (modern: pyproject.toml)\n",
    "├── README.md               # Project description\n",
    "├── LICENSE                 # License file\n",
    "└── config.yaml / .env      # Config files (optional)\n"
   ]
  },
  {
   "cell_type": "code",
   "execution_count": null,
   "id": "863bc31a-cde0-459f-9245-71614544e2e3",
   "metadata": {},
   "outputs": [],
   "source": [
    "project_name/ → Your actual Python code (modules & subpackages).\n",
    "\n",
    "tests/ → Keeps your unit/integration tests separate. Use pytest or unittest.\n",
    "\n",
    "requirements.txt → List of dependencies (pip install -r requirements.txt).\n",
    "\n",
    "Alternative: pyproject.toml (preferred in modern Python packaging).\n",
    "\n",
    "README.md → Explains what the project does and how to use it.\n",
    "\n",
    "setup.py / pyproject.toml → For packaging and distribution.\n",
    "\n",
    ".gitignore → Excludes unnecessary files (e.g., __pycache__/, .venv/).\n",
    "\n",
    "LICENSE → Open-\n",
    "    source license (MIT, Apache, etc.).\n",
    "\n",
    "docs/ → Documentation if the project is big."
   ]
  },
  {
   "cell_type": "code",
   "execution_count": null,
   "id": "0e3f5684-7726-4018-b682-ba5d8065ad37",
   "metadata": {},
   "outputs": [],
   "source": [
    "# .env file: \n",
    "the .env file is used in Python projects (and many other languages) to store environment variables — \n",
    "things like API keys, database passwords, or configuration values that you don’t want hardcoded in your code or pushed to GitHub."
   ]
  },
  {
   "cell_type": "code",
   "execution_count": null,
   "id": "31a7588d-ec7b-473f-aa46-bba97202e174",
   "metadata": {},
   "outputs": [],
   "source": [
    "# Logging in Python\n",
    "Logging means recording events that happen while a program runs.\n",
    "It helps you track what's going on in your code without stopping the program."
   ]
  },
  {
   "cell_type": "code",
   "execution_count": null,
   "id": "8e7626fe-672c-4cc7-9541-b9aa66e69e35",
   "metadata": {},
   "outputs": [],
   "source": [
    "You use the built-in logging module in Python."
   ]
  },
  {
   "cell_type": "code",
   "execution_count": null,
   "id": "a8d28f4d-07fd-4480-b127-c1fc8c83cbaf",
   "metadata": {},
   "outputs": [],
   "source": [
    "program run huda tesko events haru lai chai record garxa logging le "
   ]
  },
  {
   "cell_type": "code",
   "execution_count": null,
   "id": "2a71f24a-a3dc-4436-98ee-e15be9d7b861",
   "metadata": {},
   "outputs": [],
   "source": [
    "#debugging\n",
    "program ma vako error find garne ra fix garne error lai, it is usually done while developing"
   ]
  },
  {
   "cell_type": "code",
   "execution_count": null,
   "id": "de07caa8-6f9a-43fa-b2a6-b2cca13f85ad",
   "metadata": {},
   "outputs": [],
   "source": [
    "Tools for debugging in Python:"
   ]
  },
  {
   "cell_type": "code",
   "execution_count": 1,
   "id": "4fc3442e-c458-4be3-98f7-a5748946eaae",
   "metadata": {},
   "outputs": [
    {
     "name": "stdout",
     "output_type": "stream",
     "text": [
      "x: 10 y: 0\n",
      "Division starting...\n"
     ]
    },
    {
     "ename": "ZeroDivisionError",
     "evalue": "division by zero",
     "output_type": "error",
     "traceback": [
      "\u001b[31m---------------------------------------------------------------------------\u001b[39m",
      "\u001b[31mZeroDivisionError\u001b[39m                         Traceback (most recent call last)",
      "\u001b[36mCell\u001b[39m\u001b[36m \u001b[39m\u001b[32mIn[1]\u001b[39m\u001b[32m, line 7\u001b[39m\n\u001b[32m      4\u001b[39m \u001b[38;5;28mprint\u001b[39m(\u001b[33m\"\u001b[39m\u001b[33mx:\u001b[39m\u001b[33m\"\u001b[39m, x, \u001b[33m\"\u001b[39m\u001b[33my:\u001b[39m\u001b[33m\"\u001b[39m, y)  \u001b[38;5;66;03m# debug info\u001b[39;00m\n\u001b[32m      5\u001b[39m \u001b[38;5;28mprint\u001b[39m(\u001b[33m\"\u001b[39m\u001b[33mDivision starting...\u001b[39m\u001b[33m\"\u001b[39m)\n\u001b[32m----> \u001b[39m\u001b[32m7\u001b[39m result = \u001b[43mx\u001b[49m\u001b[43m \u001b[49m\u001b[43m/\u001b[49m\u001b[43m \u001b[49m\u001b[43my\u001b[49m   \u001b[38;5;66;03m# ZeroDivisionError\u001b[39;00m\n",
      "\u001b[31mZeroDivisionError\u001b[39m: division by zero"
     ]
    }
   ],
   "source": [
    "#Using print() statements\n",
    "x = 10\n",
    "y = 0\n",
    "print(\"x:\", x, \"y:\", y)  # debug info\n",
    "print(\"Division starting...\")\n",
    "\n",
    "result = x / y   # ZeroDivisionError\n",
    "#print le chai kun variable le garda error auxa vanera dekhaidinxa\n",
    "#jastai yesma y ko value o vayera error ako xa"
   ]
  },
  {
   "cell_type": "code",
   "execution_count": null,
   "id": "83a61cfe-fc79-4f76-a875-bc1b316bdf30",
   "metadata": {},
   "outputs": [
    {
     "name": "stdout",
     "output_type": "stream",
     "text": [
      "> \u001b[32mc:\\users\\admin\\appdata\\local\\temp\\ipykernel_19116\\1278941748.py\u001b[39m(\u001b[92m7\u001b[39m)\u001b[36m<module>\u001b[39m\u001b[34m()\u001b[39m\n",
      "\n"
     ]
    },
    {
     "name": "stdin",
     "output_type": "stream",
     "text": [
      "ipdb>  p x\n"
     ]
    },
    {
     "name": "stdout",
     "output_type": "stream",
     "text": [
      "10\n"
     ]
    }
   ],
   "source": [
    "#Using pdb (Python Debugger)\n",
    "import pdb\n",
    "\n",
    "x = 10\n",
    "y = 0\n",
    "\n",
    "pdb.set_trace()  # program will pause here\n",
    "result = x / y\n"
   ]
  },
  {
   "cell_type": "code",
   "execution_count": null,
   "id": "5823ad59-51dd-4f0a-81b5-9097ceddbc3d",
   "metadata": {},
   "outputs": [],
   "source": [
    "What pdb.set_trace() does\n",
    "\n",
    "When Python reaches pdb.set_trace(), it pauses the program and opens an interactive debugger prompt in the console.\n",
    "\n",
    "At this point, you can inspect variables, step through code, and see exactly what’s happening."
   ]
  },
  {
   "cell_type": "code",
   "execution_count": null,
   "id": "6fab308e-2b8e-4bf4-893e-0f0af3b4330c",
   "metadata": {},
   "outputs": [],
   "source": [
    "#Interactive debugging\n",
    "\n",
    "When the program pauses, you get a prompt like:\n",
    "> <filename>(6)<module>()\n",
    "-> result = x / y\n",
    "(Pdb)\n"
   ]
  },
  {
   "cell_type": "code",
   "execution_count": null,
   "id": "0e98e9ac-edc8-4fd0-a21b-7aebfc7f1bde",
   "metadata": {},
   "outputs": [],
   "source": [
    "Command\tWhat it does\n",
    "p x\tPrints value of x → 10\n",
    "p y\tPrints value of y → 0\n",
    "n\tMoves to the next line (here, result = x / y)\n",
    "c\tContinue execution until next breakpoint or end\n",
    "q\tQuit debugger"
   ]
  },
  {
   "cell_type": "code",
   "execution_count": null,
   "id": "2243f310-8821-4e98-82a4-af31ac0b9839",
   "metadata": {},
   "outputs": [],
   "source": [
    "How it helps find the error\n",
    "\n",
    "You see exact values of variables before the error.\n",
    "\n",
    "p y → 0 immediately tells you why division failed.\n",
    "\n",
    "You can step line by line to see where things go wrong.\n",
    "\n",
    "You can modify variables on the fly if you want to test fixes:"
   ]
  },
  {
   "cell_type": "code",
   "execution_count": null,
   "id": "3eecc027-520c-4112-a84a-bc2fd6122463",
   "metadata": {},
   "outputs": [],
   "source": [
    "(Pdb) y = 2\n",
    "(Pdb) n\n"
   ]
  },
  {
   "cell_type": "code",
   "execution_count": null,
   "id": "87cd96f7-c22b-4e2b-ab56-f7145961b106",
   "metadata": {},
   "outputs": [],
   "source": [
    "Now result = x / y works because y is no longer zero."
   ]
  },
  {
   "cell_type": "code",
   "execution_count": null,
   "id": "bb726e2f-bc8d-4ca0-98fa-3d38313fca93",
   "metadata": {},
   "outputs": [],
   "source": []
  }
 ],
 "metadata": {
  "kernelspec": {
   "display_name": "Python 3 (ipykernel)",
   "language": "python",
   "name": "python3"
  },
  "language_info": {
   "codemirror_mode": {
    "name": "ipython",
    "version": 3
   },
   "file_extension": ".py",
   "mimetype": "text/x-python",
   "name": "python",
   "nbconvert_exporter": "python",
   "pygments_lexer": "ipython3",
   "version": "3.13.3"
  }
 },
 "nbformat": 4,
 "nbformat_minor": 5
}
