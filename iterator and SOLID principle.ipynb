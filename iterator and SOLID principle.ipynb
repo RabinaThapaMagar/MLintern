{
 "cells": [
  {
   "cell_type": "code",
   "execution_count": null,
   "id": "f2715474-3352-4511-a9b5-4b30bf8b3666",
   "metadata": {},
   "outputs": [],
   "source": [
    "It implements two main methods:\n",
    "iter():returns the iterator object itself\n",
    "__next__() – Returns the next value from the collection. Raises StopIteration when there are no more elements."
   ]
  },
  {
   "cell_type": "code",
   "execution_count": null,
   "id": "cfdf96ae-06f0-490d-a989-1e061aed4181",
   "metadata": {},
   "outputs": [],
   "source": []
  },
  {
   "cell_type": "code",
   "execution_count": null,
   "id": "08e69524-1c24-4a7e-b1eb-4f1ebe830b13",
   "metadata": {},
   "outputs": [],
   "source": []
  },
  {
   "cell_type": "code",
   "execution_count": null,
   "id": "a2d97e48-e6e0-4572-886f-71ea130c477b",
   "metadata": {},
   "outputs": [],
   "source": []
  },
  {
   "cell_type": "code",
   "execution_count": null,
   "id": "f1c16806-0107-47e4-b432-87fb0026ca85",
   "metadata": {},
   "outputs": [],
   "source": []
  },
  {
   "cell_type": "code",
   "execution_count": null,
   "id": "20ab4790-2fd8-4cb9-a188-9de0c7be457d",
   "metadata": {},
   "outputs": [],
   "source": []
  },
  {
   "cell_type": "code",
   "execution_count": 2,
   "id": "29688737-9f03-40b4-9c3d-6bddd39a856a",
   "metadata": {},
   "outputs": [
    {
     "name": "stdout",
     "output_type": "stream",
     "text": [
      "apple\n",
      "banana\n",
      "cherry\n"
     ]
    }
   ],
   "source": [
    "##Return an iterator from a tuple, and print each value:\n",
    "mytuple = (\"apple\", \"banana\", \"cherry\")\n",
    "myit = iter(mytuple)\n",
    "\n",
    "print(next(myit))\n",
    "print(next(myit))\n",
    "print(next(myit))"
   ]
  },
  {
   "cell_type": "code",
   "execution_count": 3,
   "id": "370c4df7-8557-4199-96c9-44ae709e6246",
   "metadata": {},
   "outputs": [
    {
     "name": "stdout",
     "output_type": "stream",
     "text": [
      "b\n",
      "a\n",
      "n\n",
      "a\n",
      "n\n",
      "a\n"
     ]
    }
   ],
   "source": [
    "##Strings are also iterable objects, containing a sequence of characters:\n",
    "mystr = \"banana\"\n",
    "myit = iter(mystr)\n",
    "\n",
    "print(next(myit))\n",
    "print(next(myit))\n",
    "print(next(myit))\n",
    "print(next(myit))\n",
    "print(next(myit))\n",
    "print(next(myit))"
   ]
  },
  {
   "cell_type": "markdown",
   "id": "cc47e39b-a83d-4063-a0cf-a42f21ce5918",
   "metadata": {},
   "source": [
    "## Looping Through an Iterator"
   ]
  },
  {
   "cell_type": "code",
   "execution_count": 4,
   "id": "a98541c1-ab17-4359-880b-bb698a8c8e6e",
   "metadata": {},
   "outputs": [
    {
     "name": "stdout",
     "output_type": "stream",
     "text": [
      "apple\n",
      "banana\n",
      "cherry\n"
     ]
    }
   ],
   "source": [
    "mytuple = (\"apple\", \"banana\", \"cherry\")\n",
    "\n",
    "for x in mytuple: # for use garera iteration lagauna sakinxa\n",
    "  print(x)"
   ]
  },
  {
   "cell_type": "code",
   "execution_count": 5,
   "id": "42cc0105-660a-42d5-a85e-6793c97d1557",
   "metadata": {},
   "outputs": [
    {
     "name": "stdout",
     "output_type": "stream",
     "text": [
      "b\n",
      "a\n",
      "n\n",
      "a\n",
      "n\n",
      "a\n"
     ]
    }
   ],
   "source": [
    "#Iterate the characters of a string:\n",
    "mystr = \"banana\"\n",
    "\n",
    "for x in mystr:\n",
    "  print(x)"
   ]
  },
  {
   "cell_type": "code",
   "execution_count": 6,
   "id": "81938591-572a-4f33-b88f-873fc3e8fed2",
   "metadata": {},
   "outputs": [
    {
     "name": "stdout",
     "output_type": "stream",
     "text": [
      "1\n",
      "2\n",
      "3\n",
      "4\n",
      "5\n"
     ]
    }
   ],
   "source": [
    "###Create an iterator that returns numbers, starting with 1, and each sequence will increase by one (returning 1,2,3,4,5 etc.):\n",
    "class MyNumbers: # MyNumber vane class banako\n",
    "  def __iter__(self): # __iter__ le chai object lai iterable banauxa\n",
    "    self.a = 1 # a ma 1 value assign gareko\n",
    "    return self # yo chai object afai ma as a iterator return vako ho\n",
    "\n",
    "  def __next__(self): # __next__ le sequence ko next value lai return garxa\n",
    "    x = self.a # x ma a ko current value gao\n",
    "    self.a += 1 # a ie counter 1 le badauxa \n",
    "    return x #yesle chai aile ko current value dinxa\n",
    "\n",
    "myclass = MyNumbers() #Creates an instance of the MyNumbers class.\n",
    "myiter = iter(myclass) #Calls myclass.__iter__() internally.\n",
    "\n",
    "print(next(myiter))\n",
    "print(next(myiter))\n",
    "print(next(myiter))\n",
    "print(next(myiter))\n",
    "print(next(myiter))"
   ]
  },
  {
   "cell_type": "code",
   "execution_count": null,
   "id": "87b3ab5f-0602-40b2-aaa8-74581eabc7c4",
   "metadata": {},
   "outputs": [],
   "source": [
    "Calls myiter.__next__().\n",
    "\n",
    "x = self.a → 1\n",
    "\n",
    "self.a += 1 → a becomes 2\n",
    "\n",
    "Returns 1 → printed."
   ]
  },
  {
   "cell_type": "markdown",
   "id": "084c6207-f8cd-48a9-bf4c-7d6f95d39df3",
   "metadata": {},
   "source": [
    "## Creating a Custom Iterator"
   ]
  },
  {
   "cell_type": "code",
   "execution_count": 7,
   "id": "1f949a0b-2ba5-4c5d-9d9f-f6785b7a2190",
   "metadata": {},
   "outputs": [
    {
     "name": "stdout",
     "output_type": "stream",
     "text": [
      "1\n",
      "2\n",
      "3\n",
      "4\n",
      "5\n"
     ]
    }
   ],
   "source": [
    "class MyNumbers:\n",
    "    def __iter__(self): # it makes the object iterable\n",
    "        self.num = 1  # start counting from 1 \n",
    "        return self # return the object as a iterator\n",
    "\n",
    "    def __next__(self): # next is called to go the next value\n",
    "        if self.num <= 5:\n",
    "            x = self.num\n",
    "            self.num += 1\n",
    "            return x # return x \n",
    "        else:\n",
    "            raise StopIteration  # stops iteration\n",
    "\n",
    "# Create iterator\n",
    "numbers = MyNumbers() # object banako\n",
    "for n in numbers:\n",
    "    print(n)\n"
   ]
  },
  {
   "cell_type": "markdown",
   "id": "96b47343-6b34-4673-9dd7-ca969969cab1",
   "metadata": {},
   "source": [
    "## SOLID Principles"
   ]
  },
  {
   "cell_type": "code",
   "execution_count": null,
   "id": "7f1610de-b7a1-4d1d-be66-543cff1066d7",
   "metadata": {},
   "outputs": [],
   "source": [
    "S – Single Responsibility Principle (SRP)\n",
    "O – Open/Closed Principle (OCP)\n",
    "L – Liskov Substitution Principle (LSP)\n",
    "I – Interface Segregation Principle (ISP)\n",
    "D – Dependency Inversion Principle (DIP)"
   ]
  },
  {
   "cell_type": "code",
   "execution_count": null,
   "id": "11c35d85-b992-4868-9229-73a10b4c0ca8",
   "metadata": {},
   "outputs": [],
   "source": [
    "S – Single Responsibility Principle (SRP)\n",
    "A class should have only one reason to change. This means a class should do one thing only, and do it well.\n",
    "ie auta class le auta matra kaam garna paryo a class have only one responsibilities, auta class le multiple task garnu vayena"
   ]
  },
  {
   "cell_type": "code",
   "execution_count": null,
   "id": "f6900f29-fa37-441b-8a86-727254ede1ae",
   "metadata": {},
   "outputs": [],
   "source": [
    "#Example :Bad (violates SRP)  problem\n",
    "class User:\n",
    "    def __init__(self, name, email):\n",
    "        self.name = name\n",
    "        self.email = email\n",
    "\n",
    "    def notify(self, message):\n",
    "        # Sends email to user\n",
    "        print(f\"Sending '{message}' to {self.email}\")\n",
    "\n",
    "    def save_to_db(self):\n",
    "        # Saves user to database\n",
    "        print(f\"Saving {self.name} to database\")\n",
    "\n",
    "##yesma user vane class le multiple task perfomr garirako xa ir user ko data liney task, email send garne ra user ko data save garne\n",
    "#this violates the SRP  auta class le auta matra task garna paryo"
   ]
  },
  {
   "cell_type": "code",
   "execution_count": null,
   "id": "45f25d17-b742-49ac-a42c-31708af7f6c3",
   "metadata": {},
   "outputs": [],
   "source": [
    "##solution\n",
    "class User: # user vane class le user ko data matra store garirako xa\n",
    "    def __init__(self, name, email):\n",
    "        self.name = name\n",
    "        self.email = email\n",
    "\n",
    "class UserNotifier: # userNotifier vane class le user lai notification matra pathairako xa\n",
    "    @staticmethod\n",
    "    def notify(user, message):\n",
    "        print(f\"Sending '{message}' to {user.email}\")\n",
    "\n",
    "class UserRepository: # userRepository le user ko data database ma save garirako xa\n",
    "    @staticmethod\n",
    "    def save(user):\n",
    "        print(f\"Saving {user.name} to database\")\n",
    "# this is the example of SRP"
   ]
  },
  {
   "cell_type": "code",
   "execution_count": null,
   "id": "26a8cffd-c9c5-43d6-a241-d9afff9fdea7",
   "metadata": {},
   "outputs": [],
   "source": [
    "O – Open/Closed Principle (OCP):A class should be open for extension but closed for modification.\n",
    "ie if naya kura program ma dd gardai xam bhaney tesle existing code lai change nagarera add garna milna paryo"
   ]
  },
  {
   "cell_type": "code",
   "execution_count": null,
   "id": "a59de4ae-0591-4740-8f88-a6f492b8f460",
   "metadata": {},
   "outputs": [],
   "source": [
    "#Example – Bad (violates OCP)\n",
    "class AreaCalculator:\n",
    "    def calculate(self, shape):\n",
    "        if shape['type'] == 'circle':\n",
    "            return 3.14 * shape['radius'] ** 2\n",
    "        elif shape['type'] == 'square':\n",
    "            return shape['side'] ** 2\n",
    "# yo program ma aba naya shape jastai rectangle add garna paryo bhaney hamle yesko class lai change garxa parxa which violates the OCP rule"
   ]
  },
  {
   "cell_type": "code",
   "execution_count": null,
   "id": "4a4fc037-0754-4333-bb98-ed2d63a79178",
   "metadata": {},
   "outputs": [],
   "source": [
    "#solutions\n",
    "class Shape:\n",
    "    def area(self):\n",
    "        pass\n",
    "\n",
    "class Circle(Shape):\n",
    "    def __init__(self, radius):\n",
    "        self.radius = radius\n",
    "    def area(self):\n",
    "        return 3.14 * self.radius ** 2\n",
    "\n",
    "class Square(Shape):\n",
    "    def __init__(self, side):\n",
    "        self.side = side\n",
    "    def area(self):\n",
    "        return self.side ** 2\n",
    "\n",
    "# High-level code\n",
    "shapes = [Circle(5), Square(4)]\n",
    "for shape in shapes:\n",
    "    print(shape.area())\n",
    "# aba yo program jasto shape pani add garna milyo kinaki shape vane class mathi banako xa aba auta rectangle vane class banayera shape lai inherit gare pugy"
   ]
  },
  {
   "cell_type": "code",
   "execution_count": null,
   "id": "e221d171-9910-4361-b453-edc2d17cac63",
   "metadata": {},
   "outputs": [],
   "source": [
    "L – Liskov Substitution Principle (LSP):You should be able to replace a parent class with a child class without breaking the program.\n",
    "yedi auta parent class xa ra child class xa ra parent class lai child class ko auta kunai object le replace gardai xam bhaney the replaced object should work same just like the parent class\n",
    "kunai changes naako hos"
   ]
  },
  {
   "cell_type": "code",
   "execution_count": null,
   "id": "79eb8fd2-620a-4a94-b97a-b9d2643302d4",
   "metadata": {},
   "outputs": [],
   "source": [
    "#Example – Bad (violates LSP)\n",
    "class Bird: # Bird vane parent class ho which can fly\n",
    "    def fly(self):\n",
    "        print(\"Flying\")\n",
    "\n",
    "class Sparrow(Bird): # Sparrow is a child class\n",
    "    pass\n",
    "\n",
    "class Ostrich(Bird):#Ostrich is a child class here ostrich is also a  bird it cannot fly which violates the rule\n",
    "    def fly(self):\n",
    "        raise Exception(\"Cannot fly!\")  # ❌ breaks LSP\n"
   ]
  },
  {
   "cell_type": "code",
   "execution_count": null,
   "id": "50623a13-618f-4e26-aea0-0e77c8b1ebc6",
   "metadata": {},
   "outputs": [],
   "source": [
    "#class Bird:\n",
    "    def fly(self):\n",
    "        print(\"Flying\")\n",
    "\n",
    "class Sparrow(Bird):\n",
    "    pass\n",
    "\n",
    "class Ostrich(Bird):\n",
    "    def fly(self):\n",
    "        raise Exception(\"Cannot fly!\")  # ❌ breaks LSP\n"
   ]
  },
  {
   "cell_type": "code",
   "execution_count": null,
   "id": "6437eb5e-634c-435b-8c1a-b280d8f463ec",
   "metadata": {},
   "outputs": [],
   "source": [
    "#Example – Good (follows LSP\n",
    "class Bird: # parent class\n",
    "    pass\n",
    "\n",
    "class FlyableBird(Bird): # paila nai flyable bird le matra fly garna sakxa vanera define gare paxi onlye flyable bird can fly now\n",
    "    def fly(self):\n",
    "        print(\"Flying\")\n",
    "\n",
    "class Sparrow(FlyableBird):\n",
    "    pass\n",
    "\n",
    "class Ostrich(Bird):  # non-flyable bird which cannot fly\n",
    "    pass\n",
    "#Subtypes behave correctly for the operations they support."
   ]
  },
  {
   "cell_type": "code",
   "execution_count": null,
   "id": "ec1e4f51-e482-4e58-8847-256688074da2",
   "metadata": {},
   "outputs": [],
   "source": [
    "#I – Interface Segregation Principle (ISP)\n",
    "\n",
    "Don’t force a class to implement methods it doesn’t need.\n",
    "Instead of one big interface (with too many methods), split it into smaller, specific ones."
   ]
  },
  {
   "cell_type": "code",
   "execution_count": null,
   "id": "e16a5124-f1ad-4b81-8830-916a4bbdf798",
   "metadata": {},
   "outputs": [],
   "source": [
    "# Bad: One interface for all birds\n",
    "class Bird: # class lai nachahihey kura implement nagaraune instead seperate the clas\n",
    "    def fly(self):\n",
    "        pass\n",
    "    def swim(self):\n",
    "        pass\n",
    "\n",
    "# Good: Separate interfaces\n",
    "class Flyable: # fly ko lagi xuttai class\n",
    "    def fly(self):\n",
    "        pass\n",
    "\n",
    "class Swimmable:#swim ko lagi xuttai class\n",
    "    def swim(self):\n",
    "        pass\n"
   ]
  },
  {
   "cell_type": "code",
   "execution_count": null,
   "id": "f1ff294b-60d7-48e7-8e0d-f461e457d01e",
   "metadata": {},
   "outputs": [],
   "source": [
    "D – Dependency Inversion Principle (DIP):\n",
    "High-level modules should not depend on low-level modules. Both should depend on abstractions."
   ]
  },
  {
   "cell_type": "code",
   "execution_count": null,
   "id": "66ae0b2a-769e-4306-a5b4-0a8461452018",
   "metadata": {},
   "outputs": [],
   "source": [
    "# Bad: High-level depends on low-level\n",
    "class MySQLDatabase:\n",
    "    def connect(self):\n",
    "        print(\"Connecting to MySQL\")\n",
    "\n",
    "class UserService:\n",
    "    def __init__(self):\n",
    "        self.db = MySQLDatabase()  # tightly coupled\n",
    "\n",
    "# Good: Depend on abstraction\n",
    "class Database:\n",
    "    def connect(self):\n",
    "        pass\n",
    "\n",
    "class MySQLDatabase(Database):\n",
    "    def connect(self):\n",
    "        print(\"Connecting to MySQL\")\n",
    "\n",
    "class UserService:\n",
    "    def __init__(self, db: Database):\n",
    "        self.db = db\n"
   ]
  },
  {
   "cell_type": "code",
   "execution_count": null,
   "id": "ef3542e2-bf95-45d4-bd91-576e8b1af6cc",
   "metadata": {},
   "outputs": [],
   "source": [
    "Database → This is an abstraction (interface).\n",
    "\n",
    "It defines a method connect() but doesn’t implement it.\n",
    "\n",
    "This means any database class must follow this contract."
   ]
  }
 ],
 "metadata": {
  "kernelspec": {
   "display_name": "Python 3 (ipykernel)",
   "language": "python",
   "name": "python3"
  },
  "language_info": {
   "codemirror_mode": {
    "name": "ipython",
    "version": 3
   },
   "file_extension": ".py",
   "mimetype": "text/x-python",
   "name": "python",
   "nbconvert_exporter": "python",
   "pygments_lexer": "ipython3",
   "version": "3.13.3"
  }
 },
 "nbformat": 4,
 "nbformat_minor": 5
}
