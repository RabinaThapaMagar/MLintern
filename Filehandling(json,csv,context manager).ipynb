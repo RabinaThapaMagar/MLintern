{
 "cells": [
  {
   "cell_type": "markdown",
   "id": "1eb60127-6db6-40d6-b051-ded0e6ad10fa",
   "metadata": {},
   "source": [
    "## File Handling in Python"
   ]
  },
  {
   "cell_type": "code",
   "execution_count": null,
   "id": "0172fd06-707e-4c91-ad1e-6aaa3e044df0",
   "metadata": {},
   "outputs": [],
   "source": [
    "file ma different kaam garna paryo jastai open, read, write, ani delete, these operation are performed by file handling in python"
   ]
  },
  {
   "cell_type": "code",
   "execution_count": null,
   "id": "5a11b22a-1e37-4186-99c1-dee4037ef6d0",
   "metadata": {},
   "outputs": [],
   "source": [
    "##there are different modes in file handling"
   ]
  },
  {
   "cell_type": "code",
   "execution_count": null,
   "id": "6d6edc95-69f8-4a89-83ad-b6abf071b251",
   "metadata": {},
   "outputs": [],
   "source": [
    "r\" - Read - Default value. Opens a file for reading, error if the file does not exist\n",
    "\n",
    "\"a\" - Append - Opens a file for appending, creates the file if it does not exist\n",
    "\n",
    "\"w\" - Write - Opens a file for writing, creates the file if it does not exist\n",
    "\n",
    "\"x\" - Create - Creates the specified file, returns an error if the file exists\n",
    "t\" - Text - Default value. Text mode\n",
    "\n",
    "\"b\" - Binary - Binary mode (e.g. images)"
   ]
  },
  {
   "cell_type": "markdown",
   "id": "6d6c4d7a-9cc1-4480-8805-8264a800f46b",
   "metadata": {},
   "source": [
    "## opening a file\n",
    "The open() function takes two parameters; filename, and mode.\n"
   ]
  },
  {
   "cell_type": "code",
   "execution_count": 2,
   "id": "457344df-666f-47d9-b2c9-cafdcd2ba25e",
   "metadata": {},
   "outputs": [],
   "source": [
    "\n",
    "file = open(\"example.txt\", \"r\")  # open file in read mode\n",
    "# example.txt is the file name and 'r' is the read mode"
   ]
  },
  {
   "cell_type": "code",
   "execution_count": 4,
   "id": "4d3f00dc-31c5-42ee-bb69-3549df36f1a8",
   "metadata": {},
   "outputs": [],
   "source": [
    "file = open(\"example.txt\", \"w\")   # open for writing\n",
    "file.write(\"Hello, Python!\") # write in file\n",
    "file.close() # close the file"
   ]
  },
  {
   "cell_type": "markdown",
   "id": "b259ce6b-6727-4d7b-8ca5-2c3b9e1dea86",
   "metadata": {},
   "source": [
    "## Reading a File"
   ]
  },
  {
   "cell_type": "code",
   "execution_count": 6,
   "id": "a5497ffb-71ce-41e6-94d1-5636258dcb62",
   "metadata": {},
   "outputs": [
    {
     "name": "stdout",
     "output_type": "stream",
     "text": [
      "Hello, Python!\n"
     ]
    }
   ],
   "source": [
    "# Read entire file\n",
    "with open(\"example.txt\", \"r\") as file:\n",
    "    content = file.read()\n",
    "    print(content)"
   ]
  },
  {
   "cell_type": "code",
   "execution_count": null,
   "id": "f9e10a35-91e7-4891-a15b-234d4a280f91",
   "metadata": {},
   "outputs": [],
   "source": [
    "file.read()      # Read entire file\n",
    "file.readline()  # Read one line\n",
    "file.readlines() # Read all lines into a list"
   ]
  },
  {
   "cell_type": "code",
   "execution_count": 8,
   "id": "5227b7f4-afaa-4654-8ad4-4ea7dcd76a7a",
   "metadata": {},
   "outputs": [],
   "source": [
    "with open(\"example.txt\", \"w\") as file:\n",
    "    file.write(\"First line\\n\")\n",
    "    file.write(\"Second line\\n\")\n",
    "#\"w\" will overwrite the file. "
   ]
  },
  {
   "cell_type": "code",
   "execution_count": 9,
   "id": "484eda6b-4e28-4192-8553-d4db6a4142e9",
   "metadata": {},
   "outputs": [],
   "source": [
    "with open(\"example.txt\", \"a\") as file: #\"a\" will append instead of overwriting.\n",
    "    file.write(\"Appended line\\n\")"
   ]
  },
  {
   "cell_type": "markdown",
   "id": "b891da4d-f221-4b57-b6ce-f385feac3d6b",
   "metadata": {},
   "source": [
    "## Deleting a File"
   ]
  },
  {
   "cell_type": "code",
   "execution_count": 10,
   "id": "2e90c349-0d0d-4b54-a3bd-af9100fe7477",
   "metadata": {},
   "outputs": [
    {
     "name": "stdout",
     "output_type": "stream",
     "text": [
      "File not found!\n"
     ]
    }
   ],
   "source": [
    "#We use the os module.\n",
    "import os\n",
    "\n",
    "# Remove a file\n",
    "os.remove(\"example.txt\")\n",
    "\n",
    "# Check if file exists\n",
    "if os.path.exists(\"example.txt\"):\n",
    "    os.remove(\"example.txt\")\n",
    "else:\n",
    "    print(\"File not found!\")\n"
   ]
  },
  {
   "cell_type": "markdown",
   "id": "35065daf-08de-44b7-af18-0a54c9d20ef1",
   "metadata": {},
   "source": [
    "## Context Manager in File Handling"
   ]
  },
  {
   "cell_type": "code",
   "execution_count": null,
   "id": "72cd03a4-8144-49cd-8148-2cfd36ccdbb4",
   "metadata": {},
   "outputs": [],
   "source": [
    "file = open(\"example.txt\", \"r\")\n",
    "content = file.read()\n",
    "file.close()   # You must close manually\n",
    "#hamle file.close manually garxam ra if file close huna vanda agadi file ma error ako xa bhaney to file open nai basxa which cause memory leaks, file corruption etc"
   ]
  },
  {
   "cell_type": "code",
   "execution_count": null,
   "id": "5225a100-83db-4011-9d4d-6ee344c06c1e",
   "metadata": {},
   "outputs": [],
   "source": [
    "# tei vayera context manager(with) le automatically file lai close gardinxa file ko kaam sake paxi"
   ]
  },
  {
   "cell_type": "code",
   "execution_count": null,
   "id": "c89f7e5d-3f72-4386-acd2-4e54037881d3",
   "metadata": {},
   "outputs": [],
   "source": [
    "with open(\"example.txt\", \"r\") as file:\n",
    "    content = file.read()\n",
    "    print(content)\n",
    "\n",
    "# file is already closed here automatically when we use with statement\n"
   ]
  },
  {
   "cell_type": "markdown",
   "id": "ce4f70ca-e641-491e-98a7-988ac0ecd06f",
   "metadata": {},
   "source": [
    "## JSON"
   ]
  },
  {
   "cell_type": "code",
   "execution_count": null,
   "id": "1f34cb8d-3543-4b9c-b094-bd1dca9249b2",
   "metadata": {},
   "outputs": [],
   "source": [
    "json stands for javascript Object Notation\n",
    "lightweight data or file  format used for storing and exchanging data between applications."
   ]
  },
  {
   "cell_type": "code",
   "execution_count": null,
   "id": "32c8e606-8c7c-44e5-819a-a85cab1e73fb",
   "metadata": {},
   "outputs": [],
   "source": [
    "key features of json\n",
    "python ko dictionary haru python ko bhitra matrxa kaam garxa so if python file lai json file  ma convert garim bhaney any other language can read and use it\n"
   ]
  },
  {
   "cell_type": "code",
   "execution_count": null,
   "id": "10396c33-9e9e-49de-9a3c-2b76419043cb",
   "metadata": {},
   "outputs": [],
   "source": [
    "You can’t directly save a Python dictionary or list to a file.\n",
    "\n",
    "But you can convert it to JSON and save it in a text file.\n",
    "👉 Example: Saving student records in students.json so they can be read later."
   ]
  },
  {
   "cell_type": "code",
   "execution_count": null,
   "id": "41dbba04-1ad0-4ddb-97d5-8b8edb6faaf5",
   "metadata": {},
   "outputs": [],
   "source": [
    "#APIs and Web Communication\n",
    "\n",
    "Most web APIs (like Google Maps, Weather, YouTube) use JSON to send/receive data.\n",
    "If your Python program wants to talk to these APIs, it needs to convert Python objects into JSON to send requests."
   ]
  },
  {
   "cell_type": "code",
   "execution_count": null,
   "id": "2aa76d7c-c64d-4ff7-9b92-ea16ec501741",
   "metadata": {},
   "outputs": [],
   "source": [
    "#Databases & Configurations\n",
    "\n",
    "Some databases (like MongoDB) and config files store data in JSON format.\n",
    "\n",
    "Converting Python → JSON lets you save and retrieve structured data easily."
   ]
  },
  {
   "cell_type": "code",
   "execution_count": null,
   "id": "a92af725-90d2-43e6-87cb-2659a0407032",
   "metadata": {},
   "outputs": [],
   "source": [
    "##Writing JSON to a File\n",
    "\n",
    "We use json.dump() to write Python objects into a file as JSON."
   ]
  },
  {
   "cell_type": "code",
   "execution_count": 25,
   "id": "0a30bbaa-8e44-4e14-9359-cb8c82a883e0",
   "metadata": {},
   "outputs": [],
   "source": [
    "import json\n",
    "\n",
    "student = {\n",
    "    \"name\": \"Alice\",\n",
    "    \"age\": 20,\n",
    "    \"grades\": [\"A\", \"B\", \"A+\"]\n",
    "}\n",
    "\n",
    "# Save JSON data to a file\n",
    "with open(\"student.json\", \"w\") as file:\n",
    "    json.dump(student, file, indent=4)  # indent=4 → pretty formatting\n"
   ]
  },
  {
   "cell_type": "code",
   "execution_count": 26,
   "id": "2a550aea-9f56-4a64-89b2-198583e59c2e",
   "metadata": {},
   "outputs": [
    {
     "data": {
      "text/plain": [
       "{'name': 'Alice', 'age': 20, 'grades': ['A', 'B', 'A+']}"
      ]
     },
     "execution_count": 26,
     "metadata": {},
     "output_type": "execute_result"
    }
   ],
   "source": [
    "#Creates a file student.json with:\n",
    "{\n",
    "    \"name\": \"Alice\",\n",
    "    \"age\": 20,\n",
    "    \"grades\": [\"A\", \"B\", \"A+\"]\n",
    "}\n"
   ]
  },
  {
   "cell_type": "code",
   "execution_count": null,
   "id": "ccf870e4-b076-4ac8-93a0-ad5452538e56",
   "metadata": {},
   "outputs": [],
   "source": [
    "#Reading JSON from a File\n",
    "We use json.load() to read JSON data from a file and convert it back into a Python object."
   ]
  },
  {
   "cell_type": "code",
   "execution_count": 27,
   "id": "a04ff0f5-07f9-40da-929f-e299cc25fee2",
   "metadata": {},
   "outputs": [
    {
     "name": "stdout",
     "output_type": "stream",
     "text": [
      "{'name': 'Alice', 'age': 20, 'grades': ['A', 'B', 'A+']}\n",
      "Alice\n"
     ]
    }
   ],
   "source": [
    "import json\n",
    "\n",
    "with open(\"student.json\", \"r\") as file:\n",
    "    data = json.load(file)\n",
    "\n",
    "print(data)         # {'name': 'Alice', 'age': 20, 'grades': ['A', 'B', 'A+']}\n",
    "print(data[\"name\"]) # Alice\n"
   ]
  },
  {
   "cell_type": "code",
   "execution_count": null,
   "id": "353bf922-71d0-49a8-96b8-c4c1bdb14de2",
   "metadata": {},
   "outputs": [],
   "source": [
    "##Python to JSON Conversion\n",
    "import json\n",
    "\n",
    "person = {\"name\": \"Bob\", \"age\": 22}\n",
    "json_str = json.dumps(person)   # converts dict → JSON string\n",
    "print(json_str)\n"
   ]
  },
  {
   "cell_type": "code",
   "execution_count": 28,
   "id": "4b71e7c3-8a38-4d13-9297-57ebe19d1b85",
   "metadata": {},
   "outputs": [
    {
     "name": "stdout",
     "output_type": "stream",
     "text": [
      "22\n"
     ]
    }
   ],
   "source": [
    "#JSON String → Python\n",
    "import json\n",
    "\n",
    "json_str = '{\"name\": \"Bob\", \"age\": 22}'\n",
    "data = json.loads(json_str)   # converts JSON string → dict\n",
    "print(data[\"age\"])  # 22\n"
   ]
  },
  {
   "cell_type": "code",
   "execution_count": 29,
   "id": "c61f6e4b-f531-4a9d-892c-7a26e6d5cafc",
   "metadata": {},
   "outputs": [],
   "source": [
    "#Import the JSON module\n",
    "import json\n"
   ]
  },
  {
   "cell_type": "code",
   "execution_count": 30,
   "id": "b30b568e-b53f-4e27-9ff9-aeeef5dad9d5",
   "metadata": {},
   "outputs": [],
   "source": [
    "#Writing to a JSON file\n",
    "#Step a: Create Python data\n",
    "data = {\n",
    "    \"students\": [\n",
    "        {\"name\": \"Alice\", \"age\": 14, \"grade\": \"A\"},\n",
    "        {\"name\": \"Bob\", \"age\": 15, \"grade\": \"B\"}\n",
    "    ]\n",
    "}\n"
   ]
  },
  {
   "cell_type": "code",
   "execution_count": 31,
   "id": "192f45e3-4db3-4825-a2b9-0363d8b41c6f",
   "metadata": {},
   "outputs": [],
   "source": [
    "#Step b: Convert Python object → JSON file\n",
    "with open('students.json', 'w') as file:\n",
    "    json.dump(data, file, indent=4)  # write JSON data to file\n"
   ]
  },
  {
   "cell_type": "code",
   "execution_count": 22,
   "id": "753e5aa1-4688-4b80-a4dc-acd8cbb6677b",
   "metadata": {},
   "outputs": [
    {
     "name": "stdout",
     "output_type": "stream",
     "text": [
      "{'students': [{'name': 'Alice', 'age': 14, 'grade': 'A'}, {'name': 'Bob', 'age': 15, 'grade': 'B'}]}\n",
      "Alice\n"
     ]
    }
   ],
   "source": [
    "#Reading from a JSON file\n",
    "with open('students.json', 'r') as file:\n",
    "    data = json.load(file)  # read JSON file and convert to Python object\n",
    "\n",
    "print(data)\n",
    "print(data['students'][0]['name'])  # Access specific data\n"
   ]
  },
  {
   "cell_type": "code",
   "execution_count": 23,
   "id": "972b44e6-3bf2-40e8-a635-23282b3e28ef",
   "metadata": {},
   "outputs": [
    {
     "name": "stdout",
     "output_type": "stream",
     "text": [
      "{\n",
      "    \"students\": [\n",
      "        {\n",
      "            \"name\": \"Alice\",\n",
      "            \"age\": 14,\n",
      "            \"grade\": \"A\"\n",
      "        },\n",
      "        {\n",
      "            \"name\": \"Bob\",\n",
      "            \"age\": 15,\n",
      "            \"grade\": \"B\"\n",
      "        }\n",
      "    ]\n",
      "}\n"
     ]
    }
   ],
   "source": [
    "#Converting Python objects to JSON string\n",
    "json_string = json.dumps(data, indent=4)  # Convert to JSON string\n",
    "print(json_string)\n"
   ]
  },
  {
   "cell_type": "code",
   "execution_count": 24,
   "id": "f0385a57-f2b5-444d-a80a-f2006eb372fd",
   "metadata": {},
   "outputs": [
    {
     "name": "stdout",
     "output_type": "stream",
     "text": [
      "Bob\n"
     ]
    }
   ],
   "source": [
    "#Converting JSON string back to Python\n",
    "python_obj = json.loads(json_string)\n",
    "print(python_obj['students'][1]['name'])  # Bob\n"
   ]
  },
  {
   "cell_type": "markdown",
   "id": "3addc450-36b9-4f6f-8734-241024163f1c",
   "metadata": {},
   "source": [
    "## Python → JSON → File"
   ]
  },
  {
   "cell_type": "code",
   "execution_count": 32,
   "id": "fe490748-9f25-4ccb-b1bd-8e4c32be8f77",
   "metadata": {},
   "outputs": [],
   "source": [
    "#1.Start with Python data (like a dictionary or list).\n",
    "student = {\"name\": \"Alice\", \"age\": 20, \"grades\": [\"A\", \"B+\"]}\n"
   ]
  },
  {
   "cell_type": "code",
   "execution_count": null,
   "id": "9ecc9fce-413d-40cb-bd45-bb839ea50f85",
   "metadata": {},
   "outputs": [],
   "source": [
    "#2. Convert Python data to JSON (this happens automatically when using json.dump() or json.dumps())."
   ]
  },
  {
   "cell_type": "code",
   "execution_count": 33,
   "id": "2a74442a-57e6-4591-93b7-78bda6ea02e6",
   "metadata": {},
   "outputs": [],
   "source": [
    "#3. Write the JSON data to a file.\n",
    "import json\n",
    "\n",
    "with open(\"student.json\", \"w\") as file:\n",
    "    json.dump(student, file)  # Python → JSON → File\n"
   ]
  },
  {
   "cell_type": "code",
   "execution_count": 34,
   "id": "b11a010d-702f-407e-962a-81a601de648a",
   "metadata": {},
   "outputs": [
    {
     "name": "stdout",
     "output_type": "stream",
     "text": [
      "Alice\n"
     ]
    }
   ],
   "source": [
    "#4. Later, read the file\n",
    "with open(\"student.json\", \"r\") as file:\n",
    "    data = json.load(file)  # File (JSON) → Python object\n",
    "\n",
    "print(data[\"name\"])  # Alice\n"
   ]
  },
  {
   "cell_type": "code",
   "execution_count": null,
   "id": "05efd8ce-6795-4494-a90f-14a83127a002",
   "metadata": {},
   "outputs": [],
   "source": [
    "You never “convert the file” itself to JSON.\n",
    "\n",
    "JSON is a format; you convert Python objects into JSON and save them.\n",
    "\n",
    "When reading, you load JSON from the file back into Python objects."
   ]
  },
  {
   "cell_type": "markdown",
   "id": "da37fbd2-6ff7-43a2-8746-f28e8ada1070",
   "metadata": {},
   "source": [
    "## CSV"
   ]
  },
  {
   "cell_type": "code",
   "execution_count": null,
   "id": "4c77b13b-bf73-4666-b377-f297d6ac352c",
   "metadata": {},
   "outputs": [],
   "source": [
    "Comma-Separated Values, is a file format in python, comma le seperated vako data haru ko file lai file handle garne file format\n",
    "one of the most common formats for storing tabular data.\n",
    "python provides the csv module to read from and write to CSV files easily."
   ]
  },
  {
   "cell_type": "code",
   "execution_count": 13,
   "id": "a9c91234-88af-435b-aa1d-f25b4ddd9e94",
   "metadata": {},
   "outputs": [],
   "source": [
    "#Import the CSV module\n",
    "import csv\n"
   ]
  },
  {
   "cell_type": "code",
   "execution_count": 35,
   "id": "da1affea-e39d-4f25-842a-d6cb6a1e849b",
   "metadata": {},
   "outputs": [],
   "source": [
    "#Writing rows as lists\n",
    "\n",
    "# open a file in write mode\n",
    "with open('students.csv', mode='w', newline='') as file:\n",
    "    writer = csv.writer(file)  # create a csv writer object\n",
    "    \n",
    "    # write header row\n",
    "    writer.writerow(['Name', 'Age', 'Grade'])\n",
    "    \n",
    "    # write data rows\n",
    "    writer.writerow(['Alice', 14, 'A'])\n",
    "    writer.writerow(['Bob', 15, 'B'])\n",
    "#newline='' is important to avoid blank lines between rows on Windows.\n",
    "\n",
    "#writer.writerow() writes one row at a time as a list."
   ]
  },
  {
   "cell_type": "code",
   "execution_count": 36,
   "id": "47822a62-e7d0-4d16-afc9-ba64bf3ab028",
   "metadata": {},
   "outputs": [],
   "source": [
    "#Writing rows as dictionaries\n",
    "import csv\n",
    "\n",
    "with open('students.csv', mode='w', newline='') as file:\n",
    "    fieldnames = ['Name', 'Age', 'Grade']\n",
    "    writer = csv.DictWriter(file, fieldnames=fieldnames)\n",
    "    \n",
    "    writer.writeheader()  # writes the header row\n",
    "    \n",
    "    # write data rows\n",
    "    writer.writerow({'Name': 'Alice', 'Age': 14, 'Grade': 'A'})\n",
    "    writer.writerow({'Name': 'Bob', 'Age': 15, 'Grade': 'B'})\n"
   ]
  },
  {
   "cell_type": "code",
   "execution_count": null,
   "id": "c44d53cf-1a08-420c-adc1-cb0a9f6d17c7",
   "metadata": {},
   "outputs": [],
   "source": [
    "#Reading a CSV file"
   ]
  },
  {
   "cell_type": "code",
   "execution_count": 16,
   "id": "03dc716b-b3a4-4a6f-9992-1a6690e91b5d",
   "metadata": {},
   "outputs": [
    {
     "name": "stdout",
     "output_type": "stream",
     "text": [
      "['Name', 'Age', 'Grade']\n",
      "['Alice', '14', 'A']\n",
      "['Bob', '15', 'B']\n"
     ]
    }
   ],
   "source": [
    "#Reading rows as lists\n",
    "import csv\n",
    "\n",
    "with open('students.csv', mode='r') as file:\n",
    "    reader = csv.reader(file)\n",
    "    for row in reader:\n",
    "        print(row)\n"
   ]
  },
  {
   "cell_type": "code",
   "execution_count": 17,
   "id": "be92737b-04c1-4be2-ad27-74345aa3cfe1",
   "metadata": {},
   "outputs": [
    {
     "name": "stdout",
     "output_type": "stream",
     "text": [
      "Alice 14 A\n",
      "Bob 15 B\n"
     ]
    }
   ],
   "source": [
    "#Reading rows as dictionaries\n",
    "import csv\n",
    "\n",
    "with open('students.csv', mode='r') as file:\n",
    "    reader = csv.DictReader(file)\n",
    "    for row in reader:\n",
    "        print(row['Name'], row['Age'], row['Grade'])\n"
   ]
  },
  {
   "cell_type": "code",
   "execution_count": null,
   "id": "c37b3f01-c72c-4de6-90f0-34fb333014ca",
   "metadata": {},
   "outputs": [],
   "source": []
  },
  {
   "cell_type": "code",
   "execution_count": null,
   "id": "323dd13a-248d-42ae-8bc3-32e773754d40",
   "metadata": {},
   "outputs": [],
   "source": []
  },
  {
   "cell_type": "code",
   "execution_count": null,
   "id": "b7a44330-7763-425d-b027-ddec9648a25a",
   "metadata": {},
   "outputs": [],
   "source": []
  },
  {
   "cell_type": "code",
   "execution_count": null,
   "id": "122784c5-f1cb-4d26-a94a-5914375c3a16",
   "metadata": {},
   "outputs": [],
   "source": []
  },
  {
   "cell_type": "code",
   "execution_count": null,
   "id": "8a0e9acf-ee44-457d-93a4-3582359e62fc",
   "metadata": {},
   "outputs": [],
   "source": []
  },
  {
   "cell_type": "code",
   "execution_count": null,
   "id": "74d33ee9-2f22-42fe-b328-c34d1b22db0e",
   "metadata": {},
   "outputs": [],
   "source": []
  },
  {
   "cell_type": "code",
   "execution_count": null,
   "id": "944ef98c-3004-4519-96c3-c82c2135b64d",
   "metadata": {},
   "outputs": [],
   "source": []
  }
 ],
 "metadata": {
  "kernelspec": {
   "display_name": "Python 3 (ipykernel)",
   "language": "python",
   "name": "python3"
  },
  "language_info": {
   "codemirror_mode": {
    "name": "ipython",
    "version": 3
   },
   "file_extension": ".py",
   "mimetype": "text/x-python",
   "name": "python",
   "nbconvert_exporter": "python",
   "pygments_lexer": "ipython3",
   "version": "3.13.3"
  }
 },
 "nbformat": 4,
 "nbformat_minor": 5
}
