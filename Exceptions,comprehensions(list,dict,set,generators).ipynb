{
 "cells": [
  {
   "cell_type": "markdown",
   "id": "360cce6c-e7c8-49ef-b46c-65fc9bf11078",
   "metadata": {},
   "source": [
    "####  ExceptionHandlinginPython"
   ]
  },
  {
   "cell_type": "code",
   "execution_count": null,
   "id": "ed468af6-2420-49b0-9832-a89ce58493cf",
   "metadata": {},
   "outputs": [],
   "source": [
    "What is an Exception?\n",
    "\n",
    "An exception is an error that occurs during the execution of a program.\n",
    "If not handled, the program will stop running and show an error message."
   ]
  },
  {
   "cell_type": "code",
   "execution_count": 1,
   "id": "6936701e-ef32-4c2d-b98b-363ea162dfd9",
   "metadata": {},
   "outputs": [
    {
     "ename": "ZeroDivisionError",
     "evalue": "division by zero",
     "output_type": "error",
     "traceback": [
      "\u001b[31m---------------------------------------------------------------------------\u001b[39m",
      "\u001b[31mZeroDivisionError\u001b[39m                         Traceback (most recent call last)",
      "\u001b[36mCell\u001b[39m\u001b[36m \u001b[39m\u001b[32mIn[1]\u001b[39m\u001b[32m, line 2\u001b[39m\n\u001b[32m      1\u001b[39m \u001b[38;5;66;03m#example\u001b[39;00m\n\u001b[32m----> \u001b[39m\u001b[32m2\u001b[39m \u001b[38;5;28mprint\u001b[39m(\u001b[32;43m10\u001b[39;49m\u001b[43m/\u001b[49m\u001b[32;43m0\u001b[39;49m)\n",
      "\u001b[31mZeroDivisionError\u001b[39m: division by zero"
     ]
    }
   ],
   "source": [
    "#example\n",
    "print(10/0) # this is an error or exception"
   ]
  },
  {
   "cell_type": "code",
   "execution_count": null,
   "id": "c931dc83-962e-42c6-ae65-bdaf652e5164",
   "metadata": {},
   "outputs": [],
   "source": [
    "##Common Exceptions in Python\n",
    "\n",
    "ZeroDivisionError → Dividing by zero\n",
    "\n",
    "ValueError → Invalid value (e.g., converting letters to int)\n",
    "\n",
    "IndexError → List index out of range\n",
    "\n",
    "KeyError → Accessing a non-existing dictionary key\n",
    "\n",
    "TypeError → Invalid operation on data types\n",
    "\n",
    "FileNotFoundError → File doesn’t exist"
   ]
  },
  {
   "cell_type": "markdown",
   "id": "9e318b06-c390-4c56-99d8-00ff657cc62e",
   "metadata": {},
   "source": [
    "## Exception handling"
   ]
  },
  {
   "cell_type": "code",
   "execution_count": null,
   "id": "95dfe08d-6e75-475b-8c85-44b8a8b1475a",
   "metadata": {},
   "outputs": [],
   "source": [
    "The try block lets you test a block of code for errors.\n",
    "\n",
    "The except block lets you handle the error.\n",
    "\n",
    "The finally block lets you execute code, regardless of the result of the try- and except blocks."
   ]
  },
  {
   "cell_type": "code",
   "execution_count": 2,
   "id": "b1abb13f-bfed-4f7e-85a5-213495b31705",
   "metadata": {},
   "outputs": [
    {
     "name": "stdin",
     "output_type": "stream",
     "text": [
      "Enter a number:  12\n"
     ]
    },
    {
     "name": "stdout",
     "output_type": "stream",
     "text": [
      "Result: 0.8333333333333334\n",
      "This will always run.\n"
     ]
    }
   ],
   "source": [
    "try:\n",
    "    num = int(input(\"Enter a number: \")) #try le block of code lai run garaune error aye pani naye [ani ie num, result, print lai excute garauxa\n",
    "    result = 10 / num\n",
    "    print(\"Result:\", result)\n",
    "except ZeroDivisionError: # except le yedi tru block execute vayera error/exceptiob ayo bhane handle garne kaam garxa ie kun eror auxa ra kasari handle garne, if eror ayena bhane yo skip hunxa \n",
    "    print(\"Error: You cannot divide by zero!\")\n",
    "finally:\n",
    "    print(\"This will always run.\")# finally chai error aye pani naaye pani run hunxa everytime "
   ]
  },
  {
   "cell_type": "markdown",
   "id": "6c7f37f6-3f54-4b89-99f6-631c5d7ffac7",
   "metadata": {},
   "source": [
    "### List Comprehension"
   ]
  },
  {
   "cell_type": "code",
   "execution_count": null,
   "id": "0c0a925c-5590-41e2-b136-923d28a673e5",
   "metadata": {},
   "outputs": [],
   "source": [
    "##List Comprehension :List comprehension offers a shorter syntax when you want to create a new list based on the values of an existing list.\n",
    "existing list ko lagi naya list banaunu xa ra tesma existing list mai based vayera value rakhna xa bhaney list comprehension garinxa"
   ]
  },
  {
   "cell_type": "code",
   "execution_count": null,
   "id": "02258ccb-7a4b-4002-9686-5798e8f2648a",
   "metadata": {},
   "outputs": [],
   "source": [
    "##Example:Example:\n",
    "\n",
    "Based on a list of fruits, you want a new list, containing only the fruits with the letter \"a\" in the name.\n",
    "\n",
    "Without list comprehension you will have to write a for statement with a conditional test inside:"
   ]
  },
  {
   "cell_type": "code",
   "execution_count": null,
   "id": "8497f320-342a-43ba-b80a-1e04932469fe",
   "metadata": {},
   "outputs": [],
   "source": [
    "yedi list comprehension use nagarera same list comprehension ko kaam garna xa bhaney for loop lagayera garna parxa"
   ]
  },
  {
   "cell_type": "code",
   "execution_count": null,
   "id": "4d0767ee-6daa-461c-ac38-eef112946548",
   "metadata": {},
   "outputs": [],
   "source": [
    "####Syntax of list Comprehension\n",
    "newlist = [expression for item in iterable if condition == True]\n"
   ]
  },
  {
   "cell_type": "code",
   "execution_count": 16,
   "id": "2a5c157d-3f80-480a-a526-0265cb2e323a",
   "metadata": {},
   "outputs": [
    {
     "name": "stdout",
     "output_type": "stream",
     "text": [
      "[2, 4]\n"
     ]
    }
   ],
   "source": [
    "numbers = [1, 2, 3, 4, 5]\n",
    "newlist = [n for n in numbers if n % 2 == 0]\n",
    "print(newlist)   # [2, 4]"
   ]
  },
  {
   "cell_type": "code",
   "execution_count": null,
   "id": "d2ae4d83-40fa-47e7-b49d-9e2a6a7d036a",
   "metadata": {},
   "outputs": [],
   "source": [
    "iterable = numbers\n",
    "\n",
    "item = n\n",
    "\n",
    "condition = n % 2 == 0 (only even numbers)\n",
    "\n",
    "expression = n (we keep the number itself)"
   ]
  },
  {
   "cell_type": "code",
   "execution_count": 3,
   "id": "36a3f831-a4de-4c12-bc02-97b722328721",
   "metadata": {},
   "outputs": [
    {
     "name": "stdout",
     "output_type": "stream",
     "text": [
      "['apple', 'banana', 'mango']\n"
     ]
    }
   ],
   "source": [
    "##without list comprehension\n",
    "fruits = [\"apple\", \"banana\", \"cherry\", \"kiwi\", \"mango\"] # auta list banako with name of fruits\n",
    "newlist = [] # empty list banayim naya newlist bhaney\n",
    "\n",
    "for x in fruits: #yesle x ma each value of fruits lai rakhxa\n",
    "    if 'a' in x:# yesle x ma vako each fruits ma a xa kinai vanera check garxa \n",
    "        newlist.append(x) # yesle yedi fruits ma letter a xa bhaney newlist vane list ma add gardinxa\n",
    "print(newlist)"
   ]
  },
  {
   "cell_type": "code",
   "execution_count": null,
   "id": "88599fff-dd1d-41d4-9a0a-32daad9776aa",
   "metadata": {},
   "outputs": [],
   "source": [
    "#With list comprehension we can do all that with only one line of code:\n",
    "fruits = [\"apple\", \"banana\", \"cherry\", \"kiwi\", \"mango\"]\n",
    "\n",
    "newlist = [x for x in fruits if \"a\" in x] # yo auta line le sabai kaam garxa ie x ma sabai fruits haru rakhera a xa kinai vanera check garxa ra xa bhaney new list ma add garxa\n",
    "\n",
    "print(newlist)"
   ]
  },
  {
   "cell_type": "code",
   "execution_count": 7,
   "id": "7d91665d-4ed3-4417-ba3e-b15e16982b03",
   "metadata": {},
   "outputs": [
    {
     "name": "stdout",
     "output_type": "stream",
     "text": [
      "['banana', 'cherry', 'kiwi', 'mango']\n"
     ]
    }
   ],
   "source": [
    "fruits = [\"apple\", \"banana\", \"cherry\", \"kiwi\", \"mango\"]\n",
    "\n",
    "newlist = [x for x in fruits if x != \"apple\"] # Only accept items that are not \"apple\"\n",
    "\n",
    "print(newlist)"
   ]
  },
  {
   "cell_type": "code",
   "execution_count": 8,
   "id": "eafa5c91-5e4a-49eb-992e-b383a1890cbe",
   "metadata": {},
   "outputs": [
    {
     "name": "stdout",
     "output_type": "stream",
     "text": [
      "['apple', 'banana', 'cherry', 'kiwi', 'mango']\n"
     ]
    }
   ],
   "source": [
    "fruits = [\"apple\", \"banana\", \"cherry\", \"kiwi\", \"mango\"]\n",
    "\n",
    "newlist = [x for x in fruits] # no if is used without if statement\n",
    "\n",
    "print(newlist)"
   ]
  },
  {
   "cell_type": "code",
   "execution_count": 10,
   "id": "e6f534b1-f765-4d9f-a0ad-033298f543bf",
   "metadata": {},
   "outputs": [
    {
     "name": "stdout",
     "output_type": "stream",
     "text": [
      "[0, 1, 2, 3, 4, 5, 6, 7, 8, 9]\n"
     ]
    }
   ],
   "source": [
    "\n",
    "\n",
    "newlist = [x for x in range(10)] #You can use the range() function to create an iterable\n",
    "\n",
    "print(newlist)"
   ]
  },
  {
   "cell_type": "code",
   "execution_count": 11,
   "id": "226c21ad-6b56-4360-bd54-980592cec8cd",
   "metadata": {},
   "outputs": [
    {
     "name": "stdout",
     "output_type": "stream",
     "text": [
      "[0, 1, 2, 3, 4]\n"
     ]
    }
   ],
   "source": [
    "newlist = [x for x in range(10) if x < 5]  #Accept only numbers lower than 5:\n",
    "print(newlist)"
   ]
  },
  {
   "cell_type": "code",
   "execution_count": 12,
   "id": "62dc4832-7d87-4017-b391-58e09f3d3f98",
   "metadata": {},
   "outputs": [
    {
     "name": "stdout",
     "output_type": "stream",
     "text": [
      "['APPLE', 'BANANA', 'CHERRY', 'KIWI', 'MANGO']\n"
     ]
    }
   ],
   "source": [
    "fruits = [\"apple\", \"banana\", \"cherry\", \"kiwi\", \"mango\"]\n",
    "\n",
    "newlist = [x.upper() for x in fruits] # upper case ma chnage garxa fruits ma vako value lai\n",
    "\n",
    "print(newlist)"
   ]
  },
  {
   "cell_type": "code",
   "execution_count": 14,
   "id": "f72c5ed5-a062-4df4-afb4-e075ae160669",
   "metadata": {},
   "outputs": [
    {
     "name": "stdout",
     "output_type": "stream",
     "text": [
      "['hello', 'hello', 'hello', 'hello', 'hello']\n"
     ]
    }
   ],
   "source": [
    "fruits = [\"apple\", \"banana\", \"cherry\", \"kiwi\", \"mango\"]\n",
    "newlist = ['hello' for x in fruits] #  sabai value lai hello banaidinxa\n",
    "print(newlist)"
   ]
  },
  {
   "cell_type": "code",
   "execution_count": 15,
   "id": "274d81c9-b59a-4a03-ba4f-1cfcb7f062a5",
   "metadata": {},
   "outputs": [
    {
     "name": "stdout",
     "output_type": "stream",
     "text": [
      "['apple', 'orange', 'cherry', 'kiwi', 'mango']\n"
     ]
    }
   ],
   "source": [
    "fruits = [\"apple\", \"banana\", \"cherry\", \"kiwi\", \"mango\"]\n",
    "\n",
    "newlist = [x if x != \"banana\" else \"orange\" for x in fruits] # return orange instead of banana\n",
    "\n",
    "print(newlist)"
   ]
  },
  {
   "cell_type": "markdown",
   "id": "a72cd21b-a518-487b-92ad-004e2bcf0a89",
   "metadata": {},
   "source": [
    "####  DictionaryComprehension"
   ]
  },
  {
   "cell_type": "code",
   "execution_count": null,
   "id": "fc6dcc80-62c2-4a06-b887-f94c794a4ce0",
   "metadata": {},
   "outputs": [],
   "source": [
    "Dictionary comprehension is an elegant and concise way to create dictionaries. hamle kunai pani list bata dictionary comprehension garera dictionary banaune ho"
   ]
  },
  {
   "cell_type": "code",
   "execution_count": null,
   "id": "1c39cab6-d3f9-4655-85e1-57148324c26e",
   "metadata": {},
   "outputs": [],
   "source": [
    "##syntax of dictionary comprehension\n",
    "{key_expression: value_expression for item in iterable if condition}"
   ]
  },
  {
   "cell_type": "code",
   "execution_count": null,
   "id": "a3ed0422-3d44-4e36-8afc-848c357b246a",
   "metadata": {},
   "outputs": [],
   "source": [
    "#step to make dictionary\n",
    "1. dictionary banauna paila list, range chahinxa \n",
    "fruits = [\"apple\", \"banana\", \"mango\"]\n",
    "2. tespaxi tyo list bata key ra value lai xuttaune \n",
    "Key → the fruit name itself (fruit)\n",
    "Value → length of the fruit (len(fruit))\n",
    "3. using this syntax aba dictionary comprehension garne\n",
    "{key_expression: value_expression for item in iterable if condition}\n",
    "fruit_dict = {fruit: len(fruit) for fruit in fruits if len(fruit) > 5}\n",
    "print(fruit_dict) # fruit_dict chai auta dictionary banyo"
   ]
  },
  {
   "cell_type": "code",
   "execution_count": 21,
   "id": "2a55658d-bb85-4fc3-a54f-d4a4c16f862e",
   "metadata": {},
   "outputs": [
    {
     "name": "stdout",
     "output_type": "stream",
     "text": [
      "{1: 2, 2: 4, 3: 6, 4: 8}\n"
     ]
    }
   ],
   "source": [
    "#example1\n",
    "numbers = [1,2,3,4,5,6] # key = num, value = square\n",
    "squares = {num:num*2 for num in numbers if num < 5}\n",
    "print(squares)"
   ]
  },
  {
   "cell_type": "code",
   "execution_count": 22,
   "id": "880f81e4-0bf1-4bd0-8927-53d9c37fb0ac",
   "metadata": {},
   "outputs": [
    {
     "name": "stdout",
     "output_type": "stream",
     "text": [
      "{2: 4, 4: 8, 6: 12}\n"
     ]
    }
   ],
   "source": [
    "numbers = [1,2,3,4,5,6,7]\n",
    "#key = num\n",
    "#value = even_squares\n",
    "even_squares = {num: num*2 for num in numbers if num % 2 == 0}\n",
    "print(even_squares)"
   ]
  },
  {
   "cell_type": "code",
   "execution_count": 23,
   "id": "b856d99c-9236-47d6-8706-116f92411b10",
   "metadata": {},
   "outputs": [
    {
     "name": "stdout",
     "output_type": "stream",
     "text": [
      "[2, 4, 6, 8, 10, 12, 14, 16, 18, 20]\n"
     ]
    }
   ],
   "source": [
    "##practice for list\n",
    "#example1: Create a list of squares from 1 to 10 using list comprehension.\n",
    "squares = [x*2 for x in range(1,11)]\n",
    "print(squares)"
   ]
  },
  {
   "cell_type": "code",
   "execution_count": 24,
   "id": "adfb37a4-9239-4cec-a3ee-822f84c6badc",
   "metadata": {},
   "outputs": [
    {
     "name": "stdout",
     "output_type": "stream",
     "text": [
      "[2, 4, 6, 8, 10]\n"
     ]
    }
   ],
   "source": [
    "#example2: Create a list of even numbers from 1 to 20.\n",
    "even_numbers = [x for x in range(1,11) if x % 2 == 0]\n",
    "print(even_numbers)"
   ]
  },
  {
   "cell_type": "code",
   "execution_count": 26,
   "id": "20202daa-040c-4cc8-980e-52fdc978b62f",
   "metadata": {},
   "outputs": [
    {
     "name": "stdout",
     "output_type": "stream",
     "text": [
      "{1: 'a', 2: 'b', 3: 'c'}\n"
     ]
    }
   ],
   "source": [
    "##dictionary comprehension example\n",
    " #Swap Keys and Values\n",
    "original = {'a': 1, 'b': 2, 'c': 3}\n",
    "swapped = {v: k for k, v in original.items()}\n",
    "print(swapped)"
   ]
  },
  {
   "cell_type": "code",
   "execution_count": 27,
   "id": "fe4b72d1-de5f-4179-94c3-8ebe2638233a",
   "metadata": {},
   "outputs": [
    {
     "name": "stdout",
     "output_type": "stream",
     "text": [
      "{'name': 'Alice', 'age': 25, 'city': 'Kathmandu'}\n"
     ]
    }
   ],
   "source": [
    "#Dictionary from Two Lists\n",
    "keys = ['name', 'age', 'city']\n",
    "values = ['Alice', 25, 'Kathmandu']\n",
    "person = {k: v for k, v in zip(keys, values)} #zip(keys, values) → pairs elements from keys and values together like this:\n",
    "print(person)"
   ]
  },
  {
   "cell_type": "markdown",
   "id": "68255092-38a5-4f0f-a792-0e9784536b97",
   "metadata": {},
   "source": [
    "#### SetComprehensions"
   ]
  },
  {
   "cell_type": "code",
   "execution_count": null,
   "id": "428a9d9b-0194-4343-b65b-019391a14b4c",
   "metadata": {},
   "outputs": [],
   "source": [
    "syntax: {expression for item in iterable if condition}"
   ]
  },
  {
   "cell_type": "code",
   "execution_count": 29,
   "id": "ee4c8cf3-9e17-4d87-a8e5-f48fdff2687d",
   "metadata": {},
   "outputs": [
    {
     "name": "stdout",
     "output_type": "stream",
     "text": [
      "{1, 4, 9, 16, 25}\n"
     ]
    }
   ],
   "source": [
    "#example1: create a set of squares form 1 to 5\n",
    "squares = {x**2 for x in range(1,6)}\n",
    "print(squares)"
   ]
  },
  {
   "cell_type": "code",
   "execution_count": 30,
   "id": "909ad198-c18d-481c-8da6-416830249bd9",
   "metadata": {},
   "outputs": [
    {
     "name": "stdout",
     "output_type": "stream",
     "text": [
      "{2, 4, 6, 8, 10}\n"
     ]
    }
   ],
   "source": [
    "#example2 : Create a set of even numbers from 1 to 10\n",
    "even_num = {x for x in range(1,11) if x % 2 == 0}\n",
    "print(even_num)"
   ]
  },
  {
   "cell_type": "code",
   "execution_count": 31,
   "id": "d24e4460-61c1-4ba0-b62f-10982af322c2",
   "metadata": {},
   "outputs": [
    {
     "name": "stdout",
     "output_type": "stream",
     "text": [
      "{'MANGO', 'BANANA', 'ORANGE', 'GUAVA', 'APPLE'}\n"
     ]
    }
   ],
   "source": [
    "#example3:From a list and Remove duplicates and convert to uppercase:\n",
    "fruits = [\"apple\", \"banana\", \"mango\", \"orange\",\"guava\",\"apple\"]\n",
    "unique_fruits = { fruit.upper() for fruit in fruits} # set le automatically remove garxa duplicates lai\n",
    "print(unique_fruits)"
   ]
  },
  {
   "cell_type": "code",
   "execution_count": 32,
   "id": "9971d78f-a7f8-47bc-ab44-dc4f80506ba3",
   "metadata": {},
   "outputs": [
    {
     "name": "stdout",
     "output_type": "stream",
     "text": [
      "{'p', 'm', 'i', 's'}\n"
     ]
    }
   ],
   "source": [
    "#example4: Set comprehension with a string and Extract unique characters from a word\n",
    "word = \"mississippi\"\n",
    "unique_chars = {char for char in word} # set automatically store only unique values\n",
    "print(unique_chars)"
   ]
  },
  {
   "cell_type": "markdown",
   "id": "b374e4c3-d8e6-4bce-b285-4954992bbd42",
   "metadata": {},
   "source": [
    "#### Generators"
   ]
  },
  {
   "cell_type": "code",
   "execution_count": null,
   "id": "e0a7f819-1929-437d-8565-25f55a8437cc",
   "metadata": {},
   "outputs": [],
   "source": [
    "A generator is a special type of function in Python that generates values on the fly instead of storing them all in memory.\n",
    "generates value on fly vannale function call vaye paxi matra generate garxa value natra purai value generate garera store garera rakhdaina"
   ]
  },
  {
   "cell_type": "code",
   "execution_count": 35,
   "id": "5b12f249-e585-46d0-b585-7bc197a38fe5",
   "metadata": {},
   "outputs": [
    {
     "name": "stdout",
     "output_type": "stream",
     "text": [
      "0\n",
      "1\n",
      "2\n"
     ]
    }
   ],
   "source": [
    "#How to Create Generators\n",
    "#Generator function using yield \n",
    "def my_generator():\n",
    "    for i in range(5):\n",
    "        yield i  # returns a value and pauses function\n",
    "\n",
    "gen = my_generator()\n",
    "print(next(gen))  # 0\n",
    "print(next(gen))  # 1\n",
    "print(next(gen))  # 2\n",
    "\n",
    "\n",
    "##yield is like return, but instead of ending the function, it pauses the function and sends the value to the caller.\n",
    "\n",
    "The next time we call next() on the generator, it resumes from where it left off."
   ]
  },
  {
   "cell_type": "code",
   "execution_count": 37,
   "id": "8e661c4d-4bda-4c93-866a-7dde7a9cd7fc",
   "metadata": {},
   "outputs": [
    {
     "name": "stdout",
     "output_type": "stream",
     "text": [
      "0\n",
      "1\n",
      "2\n",
      "3\n",
      "4\n"
     ]
    }
   ],
   "source": [
    "#exmple1: Generate numbers from 0 to 4:\n",
    "def numbers():\n",
    "    for i in range(5):\n",
    "        yield i # yield le mathi samma ko value lai chai produce garxa ra function lai stop garxa ra jana mathi ko generator ie number callhunxa ani ja bata rokeko tei bata resume hunxa\n",
    "for n in numbers():\n",
    " print(n)\n"
   ]
  },
  {
   "cell_type": "code",
   "execution_count": 39,
   "id": "ba8a55be-a7fc-44a7-b032-1d07d47ba1a0",
   "metadata": {},
   "outputs": [
    {
     "name": "stdout",
     "output_type": "stream",
     "text": [
      "0\n",
      "1\n",
      "2\n",
      "3\n",
      "4\n"
     ]
    }
   ],
   "source": [
    "#example2 : Generate squares of numbers from 1 to 5:\n",
    "def squares():\n",
    "    for i in range(6):\n",
    "        yield i**2\n",
    "for n in numbers():\n",
    "    print(n)"
   ]
  },
  {
   "cell_type": "code",
   "execution_count": 41,
   "id": "3fd6ee93-b567-4951-86af-7f0e05e84f78",
   "metadata": {},
   "outputs": [
    {
     "name": "stdout",
     "output_type": "stream",
     "text": [
      "0\n",
      "1\n",
      "1\n",
      "2\n",
      "3\n",
      "5\n"
     ]
    }
   ],
   "source": [
    "#example3: Generate first n Fibonacci numbers:\n",
    "def fibonacci(n):\n",
    "    a, b = 0, 1 # a ma 0 ra b ma 1 assign gareko\n",
    "    for _ in range(n): #loop lagako n ma \n",
    "        yield a #Produces the current Fibonacci number (a) and pauses the function.Next time the generator is called, it resumes after this line.\n",
    "        a, b = b, a + b\n",
    "\n",
    "for num in fibonacci(6): #Updates the Fibonacci numbers for the next iteration:\n",
    "    print(num)"
   ]
  },
  {
   "cell_type": "code",
   "execution_count": null,
   "id": "40c95680-66f0-4eca-b20d-024a1710b0c3",
   "metadata": {},
   "outputs": [],
   "source": [
    "### how generator is differ from list?\n",
    "list: Stores all elements in memory\n",
    "generators: Generates elements on the fly, does not store all elements"
   ]
  },
  {
   "cell_type": "code",
   "execution_count": 44,
   "id": "543c7d67-4dae-4b49-8cbf-e905db3fe5a6",
   "metadata": {},
   "outputs": [
    {
     "name": "stdout",
     "output_type": "stream",
     "text": [
      "[0, 1, 4, 9, 16]\n"
     ]
    }
   ],
   "source": [
    "##with Example 1: List comprehension\n",
    "# List comprehension\n",
    "#How a list works\n",
    "\n",
    "#When you create a list: \n",
    "lst = [x**2 for x in range(5)]\n",
    "print(lst)\n",
    "#Python calculates all elements immediately.\n",
    "\n",
    "#It stores all 5 values in memory at once: [0, 1, 4, 9, 16]."
   ]
  },
  {
   "cell_type": "code",
   "execution_count": 46,
   "id": "bf254d90-5740-42fc-b497-48a770b8e735",
   "metadata": {},
   "outputs": [
    {
     "name": "stdout",
     "output_type": "stream",
     "text": [
      "<generator object <genexpr> at 0x0000022109B3D150>\n"
     ]
    }
   ],
   "source": [
    "##generator comprehension\n",
    "#How a generator works\n",
    "#When you create a generator:  \n",
    "gen = (x**2 for x in range(5))\n",
    "print(gen)\n",
    "Python does not calculate or store the values immediately.\n",
    "\n",
    "It only remembers the formula (x**2) and the current position.\n",
    "\n",
    "Each value is generated “on the fly” when you ask for it using next() or a loop.\n",
    "\n",
    "No full list is ever stored in memory."
   ]
  },
  {
   "cell_type": "markdown",
   "id": "5e5ff2fe-6276-4604-87e8-1990bdfadb76",
   "metadata": {},
   "source": [
    "### Think of a water tap vs a bucket:\n",
    "\n",
    "### List → like filling a bucket with all water at once. Takes memory/space.\n",
    "\n",
    "### Generator → like turning on a tap and getting water drop by drop only when needed."
   ]
  },
  {
   "cell_type": "markdown",
   "id": "3d67a4e6-87a1-41fc-b0cf-5fbc7fbfbd4a",
   "metadata": {},
   "source": [
    "###  GeneratorComprehensions"
   ]
  },
  {
   "cell_type": "code",
   "execution_count": 47,
   "id": "243a3ba8-b11f-4bb6-b59b-7e699cc040b8",
   "metadata": {},
   "outputs": [
    {
     "name": "stdout",
     "output_type": "stream",
     "text": [
      "<generator object <genexpr> at 0x0000022109B3DFF0>\n",
      "0\n",
      "1\n"
     ]
    }
   ],
   "source": [
    "#example1\n",
    "gen = (x**2 for x in range(5))\n",
    "print(gen)  # <generator object <genexpr> at 0x...>\n",
    "\n",
    "# Get values\n",
    "print(next(gen))  # 0\n",
    "print(next(gen))  # 1"
   ]
  },
  {
   "cell_type": "code",
   "execution_count": 48,
   "id": "da8e6b4a-2e24-4651-a54a-d560fd928946",
   "metadata": {},
   "outputs": [
    {
     "name": "stdout",
     "output_type": "stream",
     "text": [
      "4\n",
      "9\n",
      "16\n"
     ]
    }
   ],
   "source": [
    "# Or loop through remaining values\n",
    "for val in gen:\n",
    "    print(val)"
   ]
  },
  {
   "cell_type": "code",
   "execution_count": 50,
   "id": "3c8696cf-82af-4a38-ab3d-fb28be7cc1a8",
   "metadata": {},
   "outputs": [
    {
     "name": "stdout",
     "output_type": "stream",
     "text": [
      "0\n",
      "2\n",
      "4\n",
      "6\n",
      "8\n"
     ]
    }
   ],
   "source": [
    "#example2 \" Even Numbers Only\n",
    "nums = range(10)\n",
    "even_gen = (x for x in nums if x % 2 == 0)\n",
    "\n",
    "for n in even_gen:\n",
    "    print(n)\n"
   ]
  },
  {
   "cell_type": "code",
   "execution_count": 51,
   "id": "9998a255-bce0-41b2-8b22-0c37e599e7c6",
   "metadata": {},
   "outputs": [
    {
     "name": "stdout",
     "output_type": "stream",
     "text": [
      "G\n",
      "E\n",
      "N\n",
      "E\n",
      "R\n",
      "A\n",
      "T\n",
      "O\n",
      "R\n"
     ]
    }
   ],
   "source": [
    "#example3 : Characters from a String\n",
    "word = \"generator\"\n",
    "char_gen = (char.upper() for char in word)\n",
    "\n",
    "for c in char_gen:\n",
    "    print(c)"
   ]
  },
  {
   "cell_type": "code",
   "execution_count": null,
   "id": "330f5707-da93-4423-8fef-496473722418",
   "metadata": {},
   "outputs": [],
   "source": []
  },
  {
   "cell_type": "code",
   "execution_count": null,
   "id": "48ffd82e-6184-4fb6-8659-0616372d81bd",
   "metadata": {},
   "outputs": [],
   "source": []
  },
  {
   "cell_type": "code",
   "execution_count": null,
   "id": "0e28c614-9709-4d31-9668-9363fa8ef280",
   "metadata": {},
   "outputs": [],
   "source": []
  }
 ],
 "metadata": {
  "kernelspec": {
   "display_name": "Python 3 (ipykernel)",
   "language": "python",
   "name": "python3"
  },
  "language_info": {
   "codemirror_mode": {
    "name": "ipython",
    "version": 3
   },
   "file_extension": ".py",
   "mimetype": "text/x-python",
   "name": "python",
   "nbconvert_exporter": "python",
   "pygments_lexer": "ipython3",
   "version": "3.13.3"
  }
 },
 "nbformat": 4,
 "nbformat_minor": 5
}
